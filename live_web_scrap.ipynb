{
 "cells": [
  {
   "cell_type": "code",
   "execution_count": 36,
   "id": "c4eab88b",
   "metadata": {},
   "outputs": [
    {
     "name": "stdout",
     "output_type": "stream",
     "text": [
      "James Webb Space Telescope captures high-resolution image of Uranus\n",
      "https://webbtelescope.org/contents/news-releases/2023/news-2023-150\n",
      "615\n"
     ]
    }
   ],
   "source": [
    "from bs4 import BeautifulSoup\n",
    "import requests\n",
    "response = requests.get(\"https://news.ycombinator.com/\")\n",
    "get_yc_web = response.text\n",
    "soup = BeautifulSoup(get_yc_web)\n",
    "name_list = []\n",
    "links_list = []\n",
    "vote_list = []\n",
    "get_name = soup.find_all(name = 'a', rel='noreferrer')\n",
    "for names in get_name:\n",
    "    text = names.getText()\n",
    "    name_list.append(text)\n",
    "    links = names.get(\"href\")\n",
    "    links_list.append(links)\n",
    "#     links.append()\n",
    "# print(get_name)\n",
    "# article_link = get_name.get_all(\"href\")\n",
    "# print(article_link)\n",
    "article_upvotes =  soup.find_all(name='span', class_ = 'score')\n",
    "for votes in article_upvotes:\n",
    "    vote = int(votes.getText().split()[0])\n",
    "    vote_list.append(vote)\n",
    "# print(name_list)\n",
    "# print(links_list)\n",
    "max_index = vote_list.index(max(vote_list))\n",
    "# print(max_index)\n",
    "print(name_list[max_index])\n",
    "print(links_list[max_index])\n",
    "print(vote_list[max_index])"
   ]
  },
  {
   "cell_type": "code",
   "execution_count": null,
   "id": "c32c898b",
   "metadata": {},
   "outputs": [],
   "source": []
  }
 ],
 "metadata": {
  "kernelspec": {
   "display_name": "Python 3 (ipykernel)",
   "language": "python",
   "name": "python3"
  },
  "language_info": {
   "codemirror_mode": {
    "name": "ipython",
    "version": 3
   },
   "file_extension": ".py",
   "mimetype": "text/x-python",
   "name": "python",
   "nbconvert_exporter": "python",
   "pygments_lexer": "ipython3",
   "version": "3.11.5"
  }
 },
 "nbformat": 4,
 "nbformat_minor": 5
}
