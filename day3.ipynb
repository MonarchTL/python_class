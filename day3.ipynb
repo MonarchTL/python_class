{
 "cells": [
  {
   "cell_type": "code",
   "execution_count": null,
   "id": "08e82d3c",
   "metadata": {},
   "outputs": [],
   "source": [
    "# a = int(input(\"Enter a= \"))\n",
    "# b = int(input(\"Enter b= \"))\n",
    "# operator = input('Enter an operator')\n",
    "# if operator == '+':\n",
    "#     print(a+b)\n",
    "# elif operator == '-':\n",
    "#     print(a-b)\n",
    "# elif operator == '*':\n",
    "#     print(a*b)\n",
    "# elif \n",
    "    "
   ]
  },
  {
   "cell_type": "code",
   "execution_count": null,
   "id": "6d426167",
   "metadata": {},
   "outputs": [],
   "source": [
    "# a = int(input(\"Enter a number\"))"
   ]
  },
  {
   "cell_type": "code",
   "execution_count": 10,
   "id": "c676a845",
   "metadata": {},
   "outputs": [
    {
     "name": "stdout",
     "output_type": "stream",
     "text": [
      "enter a number12\n",
      " a is even & positive\n"
     ]
    }
   ],
   "source": [
    "a = int(input(\"enter a number\"))\n",
    "if a % 2 == 0 and a>0:\n",
    "    print(\" a is even & positive\")\n",
    "elif a%2 == 0 and a<0:\n",
    "    print(\"a is -ve and even\")\n",
    "elif a%2 != 0 and  a >0:\n",
    "    print(\" a is +ve and odd\")\n",
    "else:\n",
    "    print(\"a is odd and -ve \")\n",
    "    \n",
    " \n",
    "\n",
    "    "
   ]
  },
  {
   "cell_type": "code",
   "execution_count": null,
   "id": "7f1d2d27",
   "metadata": {},
   "outputs": [],
   "source": []
  },
  {
   "cell_type": "code",
   "execution_count": null,
   "id": "3c0082fb",
   "metadata": {},
   "outputs": [],
   "source": []
  },
  {
   "cell_type": "code",
   "execution_count": null,
   "id": "2e06bd07",
   "metadata": {},
   "outputs": [],
   "source": []
  }
 ],
 "metadata": {
  "kernelspec": {
   "display_name": "Python 3 (ipykernel)",
   "language": "python",
   "name": "python3"
  },
  "language_info": {
   "codemirror_mode": {
    "name": "ipython",
    "version": 3
   },
   "file_extension": ".py",
   "mimetype": "text/x-python",
   "name": "python",
   "nbconvert_exporter": "python",
   "pygments_lexer": "ipython3",
   "version": "3.11.5"
  }
 },
 "nbformat": 4,
 "nbformat_minor": 5
}
