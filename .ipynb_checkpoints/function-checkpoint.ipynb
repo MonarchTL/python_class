{
 "cells": [
  {
   "cell_type": "code",
   "execution_count": null,
   "id": "3318239a",
   "metadata": {},
   "outputs": [],
   "source": [
    "def hello():\n",
    "    print(\"hello world\")\n",
    "hello()"
   ]
  },
  {
   "cell_type": "code",
   "execution_count": null,
   "id": "25a70ac5",
   "metadata": {},
   "outputs": [],
   "source": [
    "def cal():\n",
    "    l = int(input(\"Enter the length=\"))\n",
    "    b= int(input(\"Enter the breadth=\"))\n",
    "    h= int(input(\"Enter the height=\"))\n",
    "    v = l*b*h\n",
    "    print(v)\n",
    "cal()"
   ]
  },
  {
   "cell_type": "code",
   "execution_count": null,
   "id": "f4919278",
   "metadata": {},
   "outputs": [],
   "source": [
    "l = int(input(\"Enter the length=\"))\n",
    "b= int(input(\"Enter the breadth=\"))\n",
    "h= int(input(\"Enter the height=\"))\n",
    "def cal():\n",
    "   \n",
    "    v = l*b*h\n",
    "    print(v)\n",
    "cal()"
   ]
  },
  {
   "cell_type": "code",
   "execution_count": null,
   "id": "b6884313",
   "metadata": {},
   "outputs": [],
   "source": [
    "def info(x, y, z):\n",
    "    print(f\"iam {x}.Iam {y} year old and i live in {z}\")\n",
    "\n",
    "name = input(\"Enter your name:\")\n",
    "age = int(input(\"Enter your age:\"))\n",
    "add = input(\"Enter your address:\")\n",
    "info(name, age, add)"
   ]
  },
  {
   "cell_type": "code",
   "execution_count": null,
   "id": "497f17b2",
   "metadata": {},
   "outputs": [],
   "source": [
    "def language(l = \"python\"):\n",
    "    print(l)\n",
    "    \n",
    "language(\"C\")\n",
    "language(\"Java\")\n",
    "language(\"C++\")\n",
    "language()"
   ]
  },
  {
   "cell_type": "code",
   "execution_count": null,
   "id": "9ac66086",
   "metadata": {},
   "outputs": [],
   "source": [
    "def greet():\n",
    "    x = input(\"enter your name:\")\n",
    "    return x\n",
    "print(f\"hello {greet()}\")"
   ]
  },
  {
   "cell_type": "code",
   "execution_count": null,
   "id": "0466feef",
   "metadata": {},
   "outputs": [],
   "source": [
    "def cal(l ,b ,h):\n",
    "    a = l*b\n",
    "    v = a * h\n",
    "    return a,v\n",
    "\n",
    "result = cal(2,3,4)\n",
    "a,v = result\n",
    "print(\"Area = \",a)\n",
    "print(\"Volume = \",v)\n",
    "    "
   ]
  },
  {
   "cell_type": "code",
   "execution_count": null,
   "id": "ef8ce728",
   "metadata": {},
   "outputs": [],
   "source": [
    "def add(a,b):\n",
    "    return a+b\n",
    "def sub(a,b):\n",
    "    return a - b\n",
    "def mul(a,b):\n",
    "    return a * b\n",
    "def div(a,b):\n",
    "    return a/b\n",
    "def cal(a,b,o):\n",
    "    if o == '+':\n",
    "        print(add(a,b))\n",
    "a = int(input(\"Enter a number\"))\n",
    "b = int(input(\"enter a number\"))\n",
    "o = input(\"Enter operator (+,-,*,/)\")\n",
    "cal(a,b,o)\n"
   ]
  },
  {
   "cell_type": "code",
   "execution_count": null,
   "id": "ceaa75b3",
   "metadata": {},
   "outputs": [],
   "source": [
    "# recursive function"
   ]
  },
  {
   "cell_type": "code",
   "execution_count": null,
   "id": "a7e0634f",
   "metadata": {},
   "outputs": [],
   "source": [
    "def hello():\n",
    "    print(\"Hello world\")\n",
    "    x = input(\"Enter y,to print more:\")\n",
    "    if x == 'y':\n",
    "        hello()\n",
    "hello()"
   ]
  },
  {
   "cell_type": "code",
   "execution_count": null,
   "id": "f4221226",
   "metadata": {},
   "outputs": [],
   "source": [
    "dict = {'9812739888':['Nischal','Kirtipur']}\n",
    "print(dict)"
   ]
  },
  {
   "cell_type": "code",
   "execution_count": 1,
   "id": "406c4fc4",
   "metadata": {},
   "outputs": [
    {
     "name": "stdout",
     "output_type": "stream",
     "text": [
      "Enter the name:Nischal\n",
      "enter the addresskathmandu\n",
      "Enter the number9812739888\n",
      "enter y for more:n\n",
      "{'9812739888': ['Nischal', 'kathmandu']}\n"
     ]
    }
   ],
   "source": [
    "info = {}\n",
    "l = []\n",
    "def merge(number):\n",
    "    info[number] = l\n",
    "def appen(name, address):\n",
    "    l.append(name)\n",
    "    l.append(address)\n",
    "def form():\n",
    "    name = input(\"Enter the name:\")\n",
    "    address = input(\"enter the address\")\n",
    "    number = input(\"Enter the number\")\n",
    "    appen(name, address)\n",
    "    merge(number)\n",
    "    x = input(\"enter y for more:\")\n",
    "    if x == \"y\":\n",
    "        form()\n",
    "    else:\n",
    "        print(info)\n",
    "           \n",
    "form()\n",
    "    \n",
    "\n"
   ]
  },
  {
   "cell_type": "code",
   "execution_count": 4,
   "id": "a7bc9bca",
   "metadata": {},
   "outputs": [
    {
     "name": "stdout",
     "output_type": "stream",
     "text": [
      "Enter a number 12\n",
      "More ? type 'y' for more or 'n' to end:y\n",
      "Enter a number 12\n",
      "More ? type 'y' for more or 'n' to end:n\n",
      "24\n"
     ]
    }
   ],
   "source": [
    "total = 0\n",
    "def cal():\n",
    "    global total\n",
    "    n1 = int(input(\"Enter a number \"))\n",
    "    total = total + n1\n",
    "    x = input(\"More ? type 'y' for more or 'n' to end:\")\n",
    "    if x == 'y':\n",
    "        cal()\n",
    "    else:\n",
    "        print(total)\n",
    "cal()\n",
    "\n"
   ]
  },
  {
   "cell_type": "code",
   "execution_count": null,
   "id": "bd5c97da",
   "metadata": {},
   "outputs": [
    {
     "name": "stdout",
     "output_type": "stream",
     "text": [
      "enter the number:12\n",
      "Enter the operator:12\n",
      "Enter another number:12\n",
      "Wrong operator\n",
      "enter the number:12\n",
      "Enter the operator:o\n",
      "Enter another number:12\n",
      "Wrong operator\n",
      "enter the number:12 \n",
      "Enter the operator:+\n",
      "Enter another number:12\n",
      "12.0 + 12.0 = 24.0\n"
     ]
    }
   ],
   "source": [
    "def add(a,o,b):\n",
    "    return(a + b)\n",
    "def mul(a,o,b):\n",
    "    return(a * b)\n",
    "def sub(a,o,b):\n",
    "    return(a - b)\n",
    "def div(a,o,b):\n",
    "    return(a / b)\n",
    "\n",
    "def get_new_info():\n",
    "    a = float(input(\"enter the number:\"))\n",
    "    o = input(\"Enter the operator:\")\n",
    "    b = float(input(\"Enter another number:\"))\n",
    "    calc(a,o,b)\n",
    "    \n",
    "def get_add(a):\n",
    "    o = input(\"Enter the operator:\")\n",
    "    b = int(input(\"Enter the number:\"))\n",
    "    calc(a,o,b)\n",
    "def calc(a, o, b):\n",
    "    \n",
    "     if o == '+':\n",
    "            result =  add(a, o, b)\n",
    "            print(a, o, b, \"=\", result)\n",
    "     elif o == '*':\n",
    "            result =  mul(a, o, b)\n",
    "            print(a, o, b, \"=\", result)\n",
    "     elif o == \"-\":\n",
    "            result = sub(a, o, b)\n",
    "            print(a, o, b, \"=\", result)\n",
    "     elif o == \"/\":\n",
    "            result =  div(a, o, b)\n",
    "            print(a, o, b, \"=\", result)\n",
    "     else:\n",
    "            print(\"Wrong operator\")\n",
    "            get_new_info()\n",
    "       \n",
    "     x = input(\"Do you cont from ans? If yes 'Y' if new 'N' \")\n",
    "     if x == \"Y\":\n",
    "        \n",
    "       a = result \n",
    "       get_add(a)\n",
    "     else:\n",
    "        get_new_info()\n",
    "        \n",
    "        \n",
    "    \n",
    "    \n",
    "get_new_info()"
   ]
  },
  {
   "cell_type": "code",
   "execution_count": null,
   "id": "dfb2695f",
   "metadata": {},
   "outputs": [],
   "source": []
  },
  {
   "cell_type": "code",
   "execution_count": null,
   "id": "85f7a99e",
   "metadata": {},
   "outputs": [],
   "source": []
  }
 ],
 "metadata": {
  "kernelspec": {
   "display_name": "Python 3 (ipykernel)",
   "language": "python",
   "name": "python3"
  },
  "language_info": {
   "codemirror_mode": {
    "name": "ipython",
    "version": 3
   },
   "file_extension": ".py",
   "mimetype": "text/x-python",
   "name": "python",
   "nbconvert_exporter": "python",
   "pygments_lexer": "ipython3",
   "version": "3.11.5"
  }
 },
 "nbformat": 4,
 "nbformat_minor": 5
}
