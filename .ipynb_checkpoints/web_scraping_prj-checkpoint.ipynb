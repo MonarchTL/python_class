{
 "cells": [
  {
   "cell_type": "code",
   "execution_count": 21,
   "id": "543de9aa",
   "metadata": {},
   "outputs": [],
   "source": [
    "import requests\n",
    "from bs4 import BeautifulSoup\n",
    "\n",
    "response = requests.get(\"https://www.empireonline.com/movies/features/best-movies-2/\")\n",
    "top_movies_website = response.text\n",
    "# print(top_movies_website)\n",
    "soup = BeautifulSoup(top_movies_website,'html.parser')\n",
    "top100 = soup.find_all(name = \"h3\", class_=\"listicleItem_listicle-item__title__BfenH\")\n",
    "movie_list = []\n",
    "for movies in top100:\n",
    "    movie = movies.getText()\n",
    "    movie_list.append(movie)\n",
    "\n",
    "new_list = movie_list[::-1]\n",
    "# print(new_list)\n",
    "file = open('movielist1.txt', 'w')\n",
    "for items in new_list:\n",
    "    file.write(f\"{items}\\n\")\n"
   ]
  },
  {
   "cell_type": "code",
   "execution_count": null,
   "id": "7e61b79f",
   "metadata": {},
   "outputs": [],
   "source": []
  }
 ],
 "metadata": {
  "kernelspec": {
   "display_name": "Python 3 (ipykernel)",
   "language": "python",
   "name": "python3"
  },
  "language_info": {
   "codemirror_mode": {
    "name": "ipython",
    "version": 3
   },
   "file_extension": ".py",
   "mimetype": "text/x-python",
   "name": "python",
   "nbconvert_exporter": "python",
   "pygments_lexer": "ipython3",
   "version": "3.11.5"
  }
 },
 "nbformat": 4,
 "nbformat_minor": 5
}
