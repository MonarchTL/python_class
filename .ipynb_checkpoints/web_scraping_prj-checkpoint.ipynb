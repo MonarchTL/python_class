{
 "cells": [
  {
   "cell_type": "code",
   "execution_count": 7,
   "id": "8ec6919a",
   "metadata": {},
   "outputs": [
    {
     "ename": "TypeError",
     "evalue": "list indices must be integers or slices, not str",
     "output_type": "error",
     "traceback": [
      "\u001b[1;31m---------------------------------------------------------------------------\u001b[0m",
      "\u001b[1;31mTypeError\u001b[0m                                 Traceback (most recent call last)",
      "Cell \u001b[1;32mIn[7], line 22\u001b[0m\n\u001b[0;32m     20\u001b[0m         new_data[\u001b[38;5;241m0\u001b[39m]\u001b[38;5;241m.\u001b[39mremove(item)\n\u001b[0;32m     21\u001b[0m     \u001b[38;5;28;01melse\u001b[39;00m:\n\u001b[1;32m---> 22\u001b[0m         new_list\u001b[38;5;241m.\u001b[39mappend(new_data[\u001b[38;5;241m0\u001b[39m][item])\n\u001b[0;32m     24\u001b[0m \u001b[38;5;28mprint\u001b[39m(new_list)\n",
      "\u001b[1;31mTypeError\u001b[0m: list indices must be integers or slices, not str"
     ]
    }
   ],
   "source": [
    "import requests\n",
    "from bs4 import BeautifulSoup\n",
    "\n",
    "response = requests.get(\"https://www.sharesansar.com/live-trading\")\n",
    "share_sansar = response.text\n",
    "# print(top_movies_website)\n",
    "new_data = []\n",
    "new_list = []\n",
    "    \n",
    "\n",
    "soup = BeautifulSoup(share_sansar,'html.parser')\n",
    "data = soup.find_all(name = \"table\", id=\"headFixed\")\n",
    "for items in data:\n",
    "    new_item = items.getText().split('\\n')\n",
    "    new_data.append(new_item)\n",
    "# print(new_data)\n",
    "\n",
    "for item in new_data[0]:\n",
    "    if item == '':\n",
    "        new_data[0].remove(item)\n",
    "    else:\n",
    "        new_list.append(new_data[0][item])\n",
    "        \n",
    "print(new_list)\n",
    "        \n",
    "\n",
    "# for data in new_data:\n",
    "#     list_element = data.split('\\n')\n",
    "#     new_list.append(list_element)\n",
    "# print(new_list)\n",
    "# for elements in new_list:\n",
    "#     if new_list[0][elements]== \" \":\n",
    "#         new_list[0].remove(new_list[0][elements])\n",
    "# print(new_list)\n",
    "    "
   ]
  },
  {
   "cell_type": "code",
   "execution_count": null,
   "id": "444df049",
   "metadata": {},
   "outputs": [],
   "source": []
  }
 ],
 "metadata": {
  "kernelspec": {
   "display_name": "Python 3 (ipykernel)",
   "language": "python",
   "name": "python3"
  },
  "language_info": {
   "codemirror_mode": {
    "name": "ipython",
    "version": 3
   },
   "file_extension": ".py",
   "mimetype": "text/x-python",
   "name": "python",
   "nbconvert_exporter": "python",
   "pygments_lexer": "ipython3",
   "version": "3.11.5"
  }
 },
 "nbformat": 4,
 "nbformat_minor": 5
}
