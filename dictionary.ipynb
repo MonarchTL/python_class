{
 "cells": [
  {
   "cell_type": "code",
   "execution_count": 3,
   "id": "47773eae",
   "metadata": {},
   "outputs": [
    {
     "data": {
      "text/plain": [
       "dict"
      ]
     },
     "execution_count": 3,
     "metadata": {},
     "output_type": "execute_result"
    }
   ],
   "source": [
    "d = {1:'one', 2:'Two', 3:'Three'}\n",
    "\n"
   ]
  },
  {
   "cell_type": "code",
   "execution_count": 2,
   "id": "1f86f1b5",
   "metadata": {},
   "outputs": [
    {
     "name": "stdout",
     "output_type": "stream",
     "text": [
      "Enter the number of people2\n",
      "enter the name:Niachal\n",
      "Enter the number:1\n",
      "enter the name:rabin\n",
      "Enter the number:2\n",
      "{1: 'Niachal', 2: 'rabin'}\n"
     ]
    }
   ],
   "source": [
    "d = {}\n",
    "num = int(input(\"Enter the number of people\"))\n",
    "for i in range(num):\n",
    "    name = input(\"enter the name:\")\n",
    "    number = int(input(\"Enter the number:\"))\n",
    "    d[number] = name\n",
    "    \n",
    "print(d)"
   ]
  },
  {
   "cell_type": "markdown",
   "id": "fdf14614",
   "metadata": {},
   "source": [
    "\n"
   ]
  },
  {
   "cell_type": "code",
   "execution_count": 2,
   "id": "94904835",
   "metadata": {},
   "outputs": [
    {
     "name": "stdout",
     "output_type": "stream",
     "text": [
      "9812739888\n",
      "9812345555\n"
     ]
    }
   ],
   "source": [
    "d = {9812739888: 'Nischal', 9812345555: 'hari'}\n",
    "for i in d:\n",
    "    print(i)"
   ]
  },
  {
   "cell_type": "code",
   "execution_count": 3,
   "id": "b92c933c",
   "metadata": {},
   "outputs": [
    {
     "name": "stdout",
     "output_type": "stream",
     "text": [
      "Nischal\n",
      "hari\n"
     ]
    }
   ],
   "source": [
    "d = {9812739888: 'Nischal', 9812345555: 'hari'}\n",
    "for i in d.values():\n",
    "    print(i)"
   ]
  },
  {
   "cell_type": "code",
   "execution_count": 4,
   "id": "097d36f0",
   "metadata": {},
   "outputs": [
    {
     "name": "stdout",
     "output_type": "stream",
     "text": [
      "(9812739888, 'Nischal')\n",
      "(9812345555, 'hari')\n"
     ]
    }
   ],
   "source": [
    "d = {9812739888: 'Nischal', 9812345555: 'hari'}\n",
    "for i in d.items():\n",
    "    print(i)"
   ]
  },
  {
   "cell_type": "code",
   "execution_count": 1,
   "id": "6b0cd2b3",
   "metadata": {},
   "outputs": [
    {
     "name": "stdout",
     "output_type": "stream",
     "text": [
      "enter the number of people = 2\n",
      "Enter your name:Bimi\n",
      "Enter your age:23\n",
      "enter your address:nakhi\n",
      "Enter your name:Nischal\n",
      "Enter your age:12\n",
      "enter your address:s\n"
     ]
    },
    {
     "data": {
      "text/plain": [
       "{'name': ['Bimi', 'Nischal'], 'age': ['23', '12'], 'address': ['nakhi', 's']}"
      ]
     },
     "execution_count": 1,
     "metadata": {},
     "output_type": "execute_result"
    }
   ],
   "source": [
    "d = {'name':[], 'age':[], 'address':[] }\n",
    "\n",
    "n = int(input(\"enter the number of people = \"))\n",
    "for i in range(n):\n",
    "   \n",
    "    user_name = input(\"Enter your name:\")\n",
    "    user_age = input(\"Enter your age:\")\n",
    "    user_add = input(\"enter your address:\")\n",
    "    d['name'].append(user_name)\n",
    "    d['age'].append(user_age)\n",
    "    d['address'].append(user_add)\n",
    "d\n"
   ]
  },
  {
   "cell_type": "code",
   "execution_count": 2,
   "id": "1c92816c",
   "metadata": {},
   "outputs": [
    {
     "name": "stdout",
     "output_type": "stream",
     "text": [
      "Enter no. of people:2\n",
      "Enter your name=nischal\n",
      "Enter your age=23\n",
      "Enter your address=ewe\n",
      "Enter your name=dcsd\n",
      "Enter your age=12\n",
      "Enter your address=dde\n",
      "{'name': 'dcsd', 'age': 12, 'add': 'dde'}\n"
     ]
    }
   ],
   "source": [
    "d = {}\n",
    "l = []\n",
    "n = int(input(\"Enter no. of people:\"))\n",
    "for i in range(n):\n",
    "    name = input(\"Enter your name=\")\n",
    "    age = int(input(\"Enter your age=\"))\n",
    "    add = input(\"Enter your address=\")\n",
    "    d['name'] = name\n",
    "    d['age'] = age\n",
    "    d['add'] = add\n",
    "    \n",
    "print(d)\n"
   ]
  },
  {
   "cell_type": "code",
   "execution_count": 3,
   "id": "e1579f23",
   "metadata": {},
   "outputs": [
    {
     "name": "stdout",
     "output_type": "stream",
     "text": [
      "10\n"
     ]
    }
   ],
   "source": [
    "x = lambda l, b: l * b\n",
    "print(x(5,2))"
   ]
  },
  {
   "cell_type": "code",
   "execution_count": 5,
   "id": "9d829559",
   "metadata": {},
   "outputs": [
    {
     "name": "stdout",
     "output_type": "stream",
     "text": [
      "enter the nameApple\n",
      "enter the nameAnt\n",
      "enter the nameCat\n",
      "enter the nameDog\n",
      "enter the nameAeroplane\n"
     ]
    },
    {
     "data": {
      "text/plain": [
       "['Apple', 'Ant', 'Cat', 'Dog', 'Aeroplane']"
      ]
     },
     "execution_count": 5,
     "metadata": {},
     "output_type": "execute_result"
    }
   ],
   "source": [
    "a = [input(\"enter the name\") for i in range(5)]\n"
   ]
  },
  {
   "cell_type": "code",
   "execution_count": 9,
   "id": "2ae4c358",
   "metadata": {},
   "outputs": [
    {
     "data": {
      "text/plain": [
       "['Apple', 'Ant', 'Aeroplane']"
      ]
     },
     "execution_count": 9,
     "metadata": {},
     "output_type": "execute_result"
    }
   ],
   "source": [
    "a = ['Apple', 'Ant', 'Cat', 'Dog', 'Aeroplane']\n",
    "b = list(filter(lambda x: x[0] == \"A\", a))\n",
    "b"
   ]
  },
  {
   "cell_type": "code",
   "execution_count": 10,
   "id": "7ae956b2",
   "metadata": {},
   "outputs": [
    {
     "name": "stdout",
     "output_type": "stream",
     "text": [
      "[2, 4, 6, 8, 10]\n"
     ]
    }
   ],
   "source": [
    "a = [1,2,3,4,5,6,7,8,9,10]\n",
    "b = list(filter(lambda x : x % 2 == 0, a))\n",
    "print(b)"
   ]
  },
  {
   "cell_type": "code",
   "execution_count": 11,
   "id": "c56d54de",
   "metadata": {},
   "outputs": [
    {
     "name": "stdout",
     "output_type": "stream",
     "text": [
      "[1, 4, 9, 16, 25, 36, 49, 64, 81, 100]\n"
     ]
    }
   ],
   "source": [
    "a = [1,2,3,4,5,6,7,8,9,10]\n",
    "b = list(map(lambda x: x**2, a))\n",
    "print(b)"
   ]
  },
  {
   "cell_type": "code",
   "execution_count": 12,
   "id": "9d24f9bc",
   "metadata": {},
   "outputs": [
    {
     "name": "stdout",
     "output_type": "stream",
     "text": [
      "['NISCHAL', 'HARI', 'JACKFIN', 'BIMI']\n"
     ]
    }
   ],
   "source": [
    "a = ['nischal',\"hari\", \"jackfin\", \"bimi\"]\n",
    "b = list(map(lambda x: x.upper(),a))\n",
    "print(b)"
   ]
  },
  {
   "cell_type": "code",
   "execution_count": null,
   "id": "4db11005",
   "metadata": {},
   "outputs": [],
   "source": []
  }
 ],
 "metadata": {
  "kernelspec": {
   "display_name": "Python 3 (ipykernel)",
   "language": "python",
   "name": "python3"
  },
  "language_info": {
   "codemirror_mode": {
    "name": "ipython",
    "version": 3
   },
   "file_extension": ".py",
   "mimetype": "text/x-python",
   "name": "python",
   "nbconvert_exporter": "python",
   "pygments_lexer": "ipython3",
   "version": "3.11.5"
  }
 },
 "nbformat": 4,
 "nbformat_minor": 5
}
