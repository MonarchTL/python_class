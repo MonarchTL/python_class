{
 "cells": [
  {
   "cell_type": "code",
   "execution_count": 3,
   "id": "b24b3317",
   "metadata": {},
   "outputs": [
    {
     "name": "stdout",
     "output_type": "stream",
     "text": [
      "Hari\n"
     ]
    }
   ],
   "source": [
    "data = [[\"Ram\",\"22\",\"kathmandu\"],\n",
    "       [\"Shyam\",\"34\",\"Kirtipur\"],\n",
    "       [\"Hari\", \"34\",\"Bhaktapur\"]]\n",
    "print(data[2][0])"
   ]
  },
  {
   "cell_type": "code",
   "execution_count": 4,
   "id": "49c48f8f",
   "metadata": {},
   "outputs": [
    {
     "name": "stdout",
     "output_type": "stream",
     "text": [
      "enter the no. of info2\n",
      "Enter your name:NIschal\n",
      "Enter your age:23\n",
      "Enter your address:kirtipur\n",
      "Enter your name:hari\n",
      "Enter your age:22\n",
      "Enter your address:kathmandu\n",
      "[['NIschal', 23, 'kirtipur'], ['hari', 22, 'kathmandu']]\n"
     ]
    }
   ],
   "source": [
    "info = []\n",
    "n = int(input(\"enter the no. of info\"))\n",
    "for i in range(n):\n",
    "    name = input(\"Enter your name:\")\n",
    "    age = int(input(\"Enter your age:\"))\n",
    "    address = input(\"Enter your address:\")\n",
    "    info.append([name, age, address])\n",
    "print(info)\n"
   ]
  },
  {
   "cell_type": "code",
   "execution_count": 22,
   "id": "6009599a",
   "metadata": {},
   "outputs": [
    {
     "name": "stdout",
     "output_type": "stream",
     "text": [
      "Enter the name:gg\n",
      "name not found!\n"
     ]
    }
   ],
   "source": [
    "data = [[\"Ram\",\"22\",\"kathmandu\"],\n",
    "       [\"Shyam\",\"34\",\"Kirtipur\"],\n",
    "       [\"Hari\", \"34\",\"Bhaktapur\"]]\n",
    "name = input(\"Enter the name:\")\n",
    "for i in data:\n",
    "      if name in i:\n",
    "            all_info = f\"name = {i[0]},age = {i[1]},address = {i[2]}\"\n",
    "            print(all_info)\n",
    "            break\n",
    "             \n",
    "        \n",
    "      else:\n",
    "        print(\"name not found!\")\n",
    "        break"
   ]
  },
  {
   "cell_type": "code",
   "execution_count": 20,
   "id": "c6bdb5fd",
   "metadata": {},
   "outputs": [],
   "source": [
    "#store billing in list"
   ]
  },
  {
   "cell_type": "code",
   "execution_count": 25,
   "id": "57f0056b",
   "metadata": {},
   "outputs": [
    {
     "name": "stdout",
     "output_type": "stream",
     "text": [
      "(1, 2)\n"
     ]
    }
   ],
   "source": [
    "t = ()\n",
    "x = (1,)\n",
    "y = (2,)\n",
    "t = t + x + y\n",
    "print(t)\n",
    "\n"
   ]
  },
  {
   "cell_type": "code",
   "execution_count": null,
   "id": "77a4f82b",
   "metadata": {},
   "outputs": [],
   "source": []
  }
 ],
 "metadata": {
  "kernelspec": {
   "display_name": "Python 3 (ipykernel)",
   "language": "python",
   "name": "python3"
  },
  "language_info": {
   "codemirror_mode": {
    "name": "ipython",
    "version": 3
   },
   "file_extension": ".py",
   "mimetype": "text/x-python",
   "name": "python",
   "nbconvert_exporter": "python",
   "pygments_lexer": "ipython3",
   "version": "3.11.5"
  }
 },
 "nbformat": 4,
 "nbformat_minor": 5
}
