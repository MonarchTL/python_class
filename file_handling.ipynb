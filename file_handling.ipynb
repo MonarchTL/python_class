{
 "cells": [
  {
   "cell_type": "code",
   "execution_count": null,
   "id": "5b4e1812",
   "metadata": {},
   "outputs": [],
   "source": [
    "file = open('data.txt','x')\n",
    "file.close()"
   ]
  },
  {
   "cell_type": "code",
   "execution_count": null,
   "id": "df23f7bb",
   "metadata": {},
   "outputs": [],
   "source": [
    "file = open('data.txt','r')\n",
    "d = file.read()\n",
    "print(d)"
   ]
  },
  {
   "cell_type": "code",
   "execution_count": null,
   "id": "b98152de",
   "metadata": {},
   "outputs": [],
   "source": [
    "new_data = d.split(\"\\n\")\n",
    "new_data\n"
   ]
  },
  {
   "cell_type": "code",
   "execution_count": null,
   "id": "a823164c",
   "metadata": {},
   "outputs": [],
   "source": [
    "bill = \"\"\n",
    "all_total = 0\n",
    "n = int(input(\"Enter n = \"))\n",
    "for i in range(n):\n",
    "    name = input(\"Enter name = \")\n",
    "    price = float(input(\"Enter price = \"))\n",
    "    qty = float(input(\"Enter qty = \"))\n",
    "    total = price * qty\n",
    "    bill = bill + f\"{name} {price} {qty} {total}\\n\"\n",
    "    all_total = all_total + total\n",
    "print(bill)\n",
    "print(all_total)\n",
    "file = open('bill.txt', 'w')\n",
    "file.write(bill)\n",
    "file.write(str(all_total))\n",
    "file.close()"
   ]
  },
  {
   "cell_type": "code",
   "execution_count": 2,
   "id": "bff1bae4",
   "metadata": {},
   "outputs": [
    {
     "name": "stdout",
     "output_type": "stream",
     "text": [
      "Enter n = 2\n",
      "Enter name = Apple\n",
      "Enter price = 12\n",
      "Enter qty = 12\n",
      "Enter name = Bannaa'\n",
      "Enter price = 12\n",
      "Enter qty = 12\n",
      "Apple 12.0 12.0 144.0\n",
      "Bannaa' 12.0 12.0 144.0\n",
      "\n",
      "288.0\n"
     ]
    }
   ],
   "source": [
    "bill = \"\"\n",
    "all_total = 0\n",
    "n = int(input(\"Enter n = \"))\n",
    "for i in range(n):\n",
    "    name = input(\"Enter name = \")\n",
    "    price = float(input(\"Enter price = \"))\n",
    "    qty = float(input(\"Enter qty = \"))\n",
    "    total = price * qty\n",
    "    bill = bill + f\"{name} {price} {qty} {total}\\n\"\n",
    "    all_total = all_total + total\n",
    "print(bill)\n",
    "print(all_total)\n",
    "file = open('bill.txt', 'a')\n",
    "file.write(bill)\n",
    "file.write(f\"{all_total}\\n\")\n",
    "file.close()"
   ]
  },
  {
   "cell_type": "code",
   "execution_count": 13,
   "id": "1d7ea1d2",
   "metadata": {},
   "outputs": [
    {
     "name": "stdout",
     "output_type": "stream",
     "text": [
      "Enter n = 2\n",
      "Enter name = Apple\n",
      "Enter price = 30\n",
      "Enter qty = 3\n",
      "Enter name = Banana\n",
      "Enter price = 45\n",
      "Enter qty = 30\n",
      "Apple, 30.0, 3.0, 90.0\n",
      "Banana, 45.0, 30.0, 1350.0\n",
      "\n",
      "1440.0\n"
     ]
    }
   ],
   "source": [
    "bill = \"\"\n",
    "all_total = 0\n",
    "n = int(input(\"Enter n = \"))\n",
    "for i in range(n):\n",
    "    name = input(\"Enter name = \")\n",
    "    price = float(input(\"Enter price = \"))\n",
    "    qty = float(input(\"Enter qty = \"))\n",
    "    total = price * qty\n",
    "    bill = bill + f\"{name}, {price}, {qty}, {total}\\n\"\n",
    "    all_total = all_total + total\n",
    "print(bill)\n",
    "print(all_total)\n",
    "file = open('bill.csv', 'w')\n",
    "file.write('Name,Price,Quantity,Total\\n')\n",
    "file.write(bill)\n",
    "\n",
    "\n",
    "# file.write(f\"{all_total}\\n\")\n",
    "file.close()"
   ]
  },
  {
   "cell_type": "code",
   "execution_count": 16,
   "id": "0e788a86",
   "metadata": {},
   "outputs": [
    {
     "data": {
      "text/plain": [
       "['Name,Price,Quantity,Total',\n",
       " 'Apple, 30.0, 3.0, 90.0',\n",
       " 'Banana, 45.0, 30.0, 1350.0',\n",
       " '']"
      ]
     },
     "execution_count": 16,
     "metadata": {},
     "output_type": "execute_result"
    }
   ],
   "source": [
    "file = open('bill.csv','r')\n",
    "d = file.read()\n",
    "new_data = d.split(\"\\n\")\n",
    "new_data\n"
   ]
  },
  {
   "cell_type": "code",
   "execution_count": 34,
   "id": "d16c983a",
   "metadata": {},
   "outputs": [
    {
     "name": "stdout",
     "output_type": "stream",
     "text": [
      "[['Name', 'Price', 'Quantity', 'Total'], ['Apple', ' 30.0', ' 3.0', ' 90.0'], ['Banana', ' 45.0', ' 30.0', ' 1350.0']]\n"
     ]
    },
    {
     "data": {
      "text/plain": [
       "[['Name', 'Price', 'Quantity', 'Total'],\n",
       " ['Apple', ' 30.0', ' 3.0', ' 90.0'],\n",
       " ['Banana', ' 45.0', ' 30.0', ' 1350.0'],\n",
       " 1440.0]"
      ]
     },
     "execution_count": 34,
     "metadata": {},
     "output_type": "execute_result"
    }
   ],
   "source": [
    "new_list = []\n",
    "total = 0\n",
    "for items in new_data[:-1]:\n",
    "    new_list.append(items.split(','))\n",
    "print(new_list)\n",
    "for i in new_list[1:]:\n",
    "    total += float(i[-1])\n",
    "\n",
    "new_list.append(total)\n",
    "new_list"
   ]
  },
  {
   "cell_type": "code",
   "execution_count": 3,
   "id": "0f3422d7",
   "metadata": {},
   "outputs": [
    {
     "name": "stdout",
     "output_type": "stream",
     "text": [
      "Enter Student name:Nischal\n",
      "Enter Student Roll Number :180118\n",
      "Enter the marks in Economics:89\n",
      "Enter the marks in BPIT:89\n",
      "Enter the marks in Mobile and wireless communication:89\n",
      "Entry done\n",
      "More Y or NY\n",
      "Enter Student name:Bimi\n",
      "Enter Student Roll Number :180119\n",
      "Enter the marks in Economics:67\n",
      "Enter the marks in BPIT:67\n",
      "Enter the marks in Mobile and wireless communication:67\n",
      "Entry done\n",
      "More Y or Nn\n"
     ]
    }
   ],
   "source": [
    "info = \" \"\n",
    "def store_info(info):\n",
    "    new_file = open('Result.csv','a')\n",
    "    new_file.write('Name, Roll_Number, Economics, BPIT, MWC, Total, Percentage')\n",
    "    new_file.write(info)\n",
    "\n",
    "\n",
    "def student_result():\n",
    "    name = input(\"Enter Student name:\")\n",
    "    roll = input(\"Enter Student Roll Number :\")\n",
    "    eco = float(input(\"Enter the marks in Economics:\"))\n",
    "    bpit = float(input(\"Enter the marks in BPIT:\"))\n",
    "    mwc = float(input(\"Enter the marks in Mobile and wireless communication:\"))\n",
    "    total = eco + bpit + mwc\n",
    "    per = (total/300) * 100\n",
    "    info = f\"{name}, {roll}, {eco}, {bpit}, {mwc}, {total}, {per}\\n\"\n",
    "    store_info(info)\n",
    "    print(\"Entry done\")\n",
    "    x = input(\"More Y or N\")\n",
    "    if x == 'Y':\n",
    "        student_result()\n",
    "        \n",
    "student_result()\n",
    "    \n",
    "    "
   ]
  },
  {
   "cell_type": "code",
   "execution_count": 4,
   "id": "a64be20c",
   "metadata": {},
   "outputs": [
    {
     "data": {
      "text/plain": [
       "'C:\\\\Users\\\\nisch\\\\pythonClass'"
      ]
     },
     "execution_count": 4,
     "metadata": {},
     "output_type": "execute_result"
    }
   ],
   "source": [
    "pwd\n"
   ]
  },
  {
   "cell_type": "code",
   "execution_count": null,
   "id": "d13afb00",
   "metadata": {},
   "outputs": [],
   "source": []
  }
 ],
 "metadata": {
  "kernelspec": {
   "display_name": "Python 3 (ipykernel)",
   "language": "python",
   "name": "python3"
  },
  "language_info": {
   "codemirror_mode": {
    "name": "ipython",
    "version": 3
   },
   "file_extension": ".py",
   "mimetype": "text/x-python",
   "name": "python",
   "nbconvert_exporter": "python",
   "pygments_lexer": "ipython3",
   "version": "3.11.5"
  }
 },
 "nbformat": 4,
 "nbformat_minor": 5
}
