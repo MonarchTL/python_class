{
 "cells": [
  {
   "cell_type": "code",
   "execution_count": 2,
   "id": "b1c16b1c",
   "metadata": {},
   "outputs": [
    {
     "name": "stdout",
     "output_type": "stream",
     "text": [
      "Hello world\n",
      "welcome to oop\n"
     ]
    }
   ],
   "source": [
    "class Hello:\n",
    "    def hello_world(self):\n",
    "        print(\"Hello world\")\n",
    "        print(\"welcome to oop\")\n",
    "obj = Hello()\n",
    "obj.hello_world()"
   ]
  },
  {
   "cell_type": "code",
   "execution_count": 3,
   "id": "f45b140c",
   "metadata": {},
   "outputs": [
    {
     "name": "stdout",
     "output_type": "stream",
     "text": [
      "50\n",
      "100\n"
     ]
    }
   ],
   "source": [
    "class Cal:\n",
    "    def area(self, l, b):\n",
    "        a = l * b\n",
    "        print(a)\n",
    "    def volume(self, l, b, h):\n",
    "        v = l * b * h\n",
    "        print(v)\n",
    "obj = Cal()\n",
    "obj.area(10, 5)\n",
    "obj.volume(10, 5, 2)\n",
    "    "
   ]
  },
  {
   "cell_type": "code",
   "execution_count": 5,
   "id": "56b9ff0a",
   "metadata": {},
   "outputs": [
    {
     "name": "stdout",
     "output_type": "stream",
     "text": [
      "50\n",
      "100\n"
     ]
    }
   ],
   "source": [
    "class Cal:\n",
    "    def __init__(self, l, b, h):\n",
    "        self.l = l\n",
    "        self.b = b\n",
    "        self.h = h\n",
    "        \n",
    "    def area(self):\n",
    "        a = self.l * self.b\n",
    "        print(a)\n",
    "    \n",
    "    def volume(self):\n",
    "        v = self.l * self.b * self.h\n",
    "        print(v)\n",
    "obj = Cal(10,5,2)\n",
    "obj.area()\n",
    "obj.volume()\n",
    "\n",
    "    "
   ]
  },
  {
   "cell_type": "code",
   "execution_count": 8,
   "id": "a58e7a11",
   "metadata": {},
   "outputs": [
    {
     "name": "stdout",
     "output_type": "stream",
     "text": [
      "50\n",
      "100\n"
     ]
    }
   ],
   "source": [
    "class Area:\n",
    "    def __init__(self, l, b):\n",
    "        self.l = l\n",
    "        self.b = b\n",
    "         \n",
    "    def area(self):\n",
    "        a = self.l * self.b\n",
    "        print(a)\n",
    "class Volume:\n",
    "    def __init__(self, l, b, h):\n",
    "        self.l = l\n",
    "        self.b = b\n",
    "        self.h = h    \n",
    "    def volume(self):\n",
    "        v = self.l * self.b * self.h\n",
    "        print(v)\n",
    "obj1 = Area(10,5)\n",
    "obj2 = Volume (10, 5, 2)\n",
    "obj1.area()\n",
    "obj2.volume()\n",
    "\n",
    "    "
   ]
  },
  {
   "cell_type": "code",
   "execution_count": 10,
   "id": "5131739d",
   "metadata": {},
   "outputs": [
    {
     "name": "stdout",
     "output_type": "stream",
     "text": [
      "Hello my name is Ram.I live in Kirtipur,I am 23\n",
      "Ram\n"
     ]
    }
   ],
   "source": [
    "class Info():\n",
    "    def __init__(self, name, address, age):\n",
    "        self.name = name\n",
    "        self.add = address\n",
    "        self.age = age\n",
    "        \n",
    "    def info(self):\n",
    "        print(f\"Hello my name is {self.name}.I live in {self.add},I am {self.age}\")\n",
    "    def __str__(self):\n",
    "        return self.name\n",
    "    \n",
    "obj = Info('Ram', 'Kirtipur','23')\n",
    "obj.info()\n",
    "print(obj)\n",
    "    "
   ]
  },
  {
   "cell_type": "code",
   "execution_count": 19,
   "id": "669dc172",
   "metadata": {},
   "outputs": [
    {
     "name": "stdout",
     "output_type": "stream",
     "text": [
      "Hello Iam Nischal. I live in Kirtipur, I am 24\n",
      "Nischal Kirtipur 24\n",
      "Hello world this . Iam Nischal, I live in Kirtipur. Iam 24\n"
     ]
    }
   ],
   "source": [
    "#INHERITANCE\n",
    "\n",
    "class Data:                                                              #parent class\n",
    "    def __init__(self, name, add, age):\n",
    "        self.name = name\n",
    "        self.add = add\n",
    "        self.age = age\n",
    "    def data(self):\n",
    "        print(self.name, self.add, self.age)\n",
    "class Info(Data):                                                         #child class\n",
    "    def info(self):\n",
    "        print(f\"Hello Iam {self.name}. I live in {self.add}, I am {self.age}\")\n",
    "\n",
    "class More(Info):\n",
    "    def more(self):\n",
    "        print(f\"Hello world this . Iam {self.name}, I live in {self.add}. Iam {self.age}\")\n",
    "\n",
    "\n",
    "obj = More(\"Nischal\", \"Kirtipur\", 24 )\n",
    "obj.info()\n",
    "obj.data()\n",
    "obj.more()\n",
    "    "
   ]
  },
  {
   "cell_type": "code",
   "execution_count": null,
   "id": "9d61356b",
   "metadata": {},
   "outputs": [],
   "source": []
  }
 ],
 "metadata": {
  "kernelspec": {
   "display_name": "Python 3 (ipykernel)",
   "language": "python",
   "name": "python3"
  },
  "language_info": {
   "codemirror_mode": {
    "name": "ipython",
    "version": 3
   },
   "file_extension": ".py",
   "mimetype": "text/x-python",
   "name": "python",
   "nbconvert_exporter": "python",
   "pygments_lexer": "ipython3",
   "version": "3.11.5"
  }
 },
 "nbformat": 4,
 "nbformat_minor": 5
}
