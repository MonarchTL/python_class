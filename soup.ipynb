{
 "cells": [
  {
   "cell_type": "code",
   "execution_count": 33,
   "id": "71452cbe",
   "metadata": {},
   "outputs": [
    {
     "name": "stdout",
     "output_type": "stream",
     "text": [
      "<!DOCTYPE html>\n",
      "<html>\n",
      "<head>\n",
      "<meta charset=\"utf-8\"/>\n",
      "<title>Angela's Personal Site</title>\n",
      "</head>\n",
      "<body>\n",
      "<h1 id=\"name\">Angela Yu</h1>\n",
      "<p><em>Founder of <strong><a href=\"https://www.appbrewery.co/\">The App Brewery</a></strong>.</em></p>\n",
      "<p>I am an iOS and Web Developer. I ❤️ coffee and motorcycles.</p>\n",
      "<hr/>\n",
      "<h3 class=\"heading\">Books and Teaching</h3>\n",
      "<ul>\n",
      "<li>The Complete iOS App Development Bootcamp</li>\n",
      "<li>The Complete Web Development Bootcamp</li>\n",
      "<li>100 Days of Code - The Complete Python Bootcamp</li>\n",
      "</ul>\n",
      "<hr/>\n",
      "<h3 class=\"heading\">Other Pages</h3>\n",
      "<a href=\"https://angelabauer.github.io/cv/hobbies.html\">My Hobbies</a>\n",
      "<a href=\"https://angelabauer.github.io/cv/contact-me.html\">Contact Me</a>\n",
      "</body>\n",
      "</html>\n",
      "\n",
      "<h3 class=\"heading\">Books and Teaching</h3>\n",
      "Books and Teaching\n"
     ]
    }
   ],
   "source": [
    "from bs4 import BeautifulSoup\n",
    "file = open('website.html','r',encoding='utf-8')\n",
    "content = file.read()\n",
    "soup = BeautifulSoup(content)\n",
    "print(soup)\n",
    "get_all_attr = soup.find_all(name = \"h1\")\n",
    "# print(get_all_attr)\n",
    "# for tags in get_all_attr:\n",
    "# #     print(tags.getText())\n",
    "#     print(tags.get(\"href\"))\n",
    "selected_heading = soup.find(name = 'h1', id = 'name')\n",
    "# print(selected_heading)\n",
    "# get_by_class = soup.find(name = \"h3\", class_=\"heading\")\n",
    "# get_by_class\n",
    "get = soup.select_one(\".heading\")\n",
    "print(get)\n",
    "print(get.getText())\n",
    "\n",
    "# get_listelement\n"
   ]
  },
  {
   "cell_type": "code",
   "execution_count": null,
   "id": "8b5276f2",
   "metadata": {},
   "outputs": [],
   "source": []
  }
 ],
 "metadata": {
  "kernelspec": {
   "display_name": "Python 3 (ipykernel)",
   "language": "python",
   "name": "python3"
  },
  "language_info": {
   "codemirror_mode": {
    "name": "ipython",
    "version": 3
   },
   "file_extension": ".py",
   "mimetype": "text/x-python",
   "name": "python",
   "nbconvert_exporter": "python",
   "pygments_lexer": "ipython3",
   "version": "3.11.5"
  }
 },
 "nbformat": 4,
 "nbformat_minor": 5
}
