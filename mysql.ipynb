{
 "cells": [
  {
   "cell_type": "code",
   "execution_count": 1,
   "id": "071e1894",
   "metadata": {},
   "outputs": [
    {
     "name": "stdout",
     "output_type": "stream",
     "text": [
      "Collecting mysql-connector\n",
      "  Using cached mysql_connector-2.2.9-cp311-cp311-win_amd64.whl\n",
      "Installing collected packages: mysql-connector\n",
      "Successfully installed mysql-connector-2.2.9\n"
     ]
    }
   ],
   "source": [
    "!pip install mysql-connector"
   ]
  },
  {
   "cell_type": "code",
   "execution_count": 3,
   "id": "fc1011cf",
   "metadata": {},
   "outputs": [],
   "source": [
    "import mysql.connector\n",
    "#importing database\n",
    "database = mysql.connector.connect(\n",
    "    host=\"localhost\",\n",
    "    user= \"root\",\n",
    "    password=\"\",\n",
    "    database = \"python3pm\"\n",
    "    )\n",
    "db = database.cursor()"
   ]
  },
  {
   "cell_type": "code",
   "execution_count": 6,
   "id": "c7e7521c",
   "metadata": {},
   "outputs": [
    {
     "name": "stdout",
     "output_type": "stream",
     "text": [
      "[(1, 'Nischal Chand Thakuri', 80, 89, 86, 96, 89, 450, 89.0, 'A'), (2, 'Rabin kafle', 78, 67, 90, 95, 78, 432, 81.0, 'A'), (3, 'Bimisha Shrestha', 67, 87, 77, 56, 97, 390, 78.0, 'B+')]\n"
     ]
    }
   ],
   "source": [
    "sql = \"SELECT * FROM student\"\n",
    "db.execute(sql)\n",
    "result = db.fetchall()\n",
    "print(result)"
   ]
  },
  {
   "cell_type": "code",
   "execution_count": 4,
   "id": "8d83617f",
   "metadata": {},
   "outputs": [
    {
     "name": "stdout",
     "output_type": "stream",
     "text": [
      "[('Bimisha Shrestha',)]\n"
     ]
    }
   ],
   "source": [
    "sql = \"SELECT name FROM student WHERE grade = 'A'\"\n",
    "db.execute(sql)\n",
    "result = db.fetchall()\n",
    "print(result)"
   ]
  },
  {
   "cell_type": "code",
   "execution_count": 5,
   "id": "ef4ab82c",
   "metadata": {},
   "outputs": [],
   "source": [
    "sql = \"UPDATE student SET name ='Sabera' where sn = 8\"\n",
    "db.execute(sql)\n",
    "database.commit()"
   ]
  },
  {
   "cell_type": "code",
   "execution_count": 9,
   "id": "dc3c3c8d",
   "metadata": {},
   "outputs": [],
   "source": [
    "sql = \"DELETE FROM student where sn = 2\"\n",
    "db.execute(sql)\n",
    "database.commit()"
   ]
  },
  {
   "cell_type": "code",
   "execution_count": 6,
   "id": "0b33015b",
   "metadata": {},
   "outputs": [
    {
     "name": "stdout",
     "output_type": "stream",
     "text": [
      "Enter the name:Sabera Pasachhe\n",
      "Enter the marks in chem80\n",
      "Enter the marks in physics89\n",
      "Enter the marks in maths100\n",
      "Enter the marks in english80\n",
      "Enter the marks in nepali90\n",
      "Data entry done\n",
      "enter 'Y' to add more, esle type 'E' to Exit.E\n",
      "Done...\n"
     ]
    }
   ],
   "source": [
    "\n",
    "def student_result():\n",
    "    name = input(\"Enter the name:\")\n",
    "    ch = int(input(\"Enter the marks in chem\"))\n",
    "    phy = int(input(\"Enter the marks in physics\"))\n",
    "    math = int(input(\"Enter the marks in maths\"))\n",
    "    english = int(input(\"Enter the marks in english\"))\n",
    "    nepali = int(input(\"Enter the marks in nepali\"))\n",
    "    total = ch + phy + math + nepali + english\n",
    "    percentage = (total / 500) * 100\n",
    "\n",
    "    if percentage > 90:\n",
    "        grade = \"A+\"\n",
    "    elif percentage > 80:\n",
    "        grade = \"A\"\n",
    "    elif percentage > 70:\n",
    "        grade = \"B\"\n",
    "    elif percentage > 60:\n",
    "        grade = \"C\"\n",
    "    elif percentage > 50:\n",
    "        grade = \"D\"\n",
    "    else:\n",
    "        grade = \"F\"\n",
    "\n",
    "    # Use placeholders in the SQL query\n",
    "    sql = '''INSERT INTO student(name, phy, ch, math, english, nepali, total, percentage, grade)\n",
    "             VALUES (%s, %s, %s, %s, %s, %s, %s, %s, %s)'''\n",
    "\n",
    "    # Pass values as a tuple to the execute function\n",
    "    db.execute(sql, (name, phy, ch, math, english, nepali, total, percentage, grade))\n",
    "\n",
    "    # Commit the changes to the database\n",
    "    database.commit()\n",
    "\n",
    "    print(\"Data entry done\")\n",
    "    x = input(\"enter 'Y' to add more, esle type 'E' to Exit.\")\n",
    "    if x == \"Y\":\n",
    "        student_result()\n",
    "    else:\n",
    "        print(\"Done...\")\n",
    "student_result()"
   ]
  },
  {
   "cell_type": "code",
   "execution_count": null,
   "id": "b98eb3de",
   "metadata": {},
   "outputs": [],
   "source": []
  },
  {
   "cell_type": "code",
   "execution_count": null,
   "id": "4f12d1c7",
   "metadata": {},
   "outputs": [],
   "source": []
  }
 ],
 "metadata": {
  "kernelspec": {
   "display_name": "Python 3 (ipykernel)",
   "language": "python",
   "name": "python3"
  },
  "language_info": {
   "codemirror_mode": {
    "name": "ipython",
    "version": 3
   },
   "file_extension": ".py",
   "mimetype": "text/x-python",
   "name": "python",
   "nbconvert_exporter": "python",
   "pygments_lexer": "ipython3",
   "version": "3.11.5"
  }
 },
 "nbformat": 4,
 "nbformat_minor": 5
}
