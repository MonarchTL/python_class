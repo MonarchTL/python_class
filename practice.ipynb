{
 "cells": [
  {
   "cell_type": "code",
   "execution_count": null,
   "id": "a6c90641",
   "metadata": {},
   "outputs": [],
   "source": [
    "abs = -10\n",
    "print(abs(abs))\n"
   ]
  },
  {
   "cell_type": "code",
   "execution_count": null,
   "id": "70040d50",
   "metadata": {},
   "outputs": [],
   "source": [
    "print(abs(-10))"
   ]
  },
  {
   "cell_type": "code",
   "execution_count": null,
   "id": "cb52a06f",
   "metadata": {},
   "outputs": [],
   "source": [
    "# swapping two value\n",
    "x = int(input(\"enter a number x = \"))\n",
    "y = int(input(\"enter a number y = \"))\n",
    "c = x\n",
    "x = y\n",
    "y = c\n",
    "print(\"X = \", x)\n",
    "print(\"Y = \", y)"
   ]
  },
  {
   "cell_type": "code",
   "execution_count": null,
   "id": "f5aa879f",
   "metadata": {},
   "outputs": [],
   "source": [
    "bob's = 2\n",
    "print(bob's)"
   ]
  },
  {
   "cell_type": "code",
   "execution_count": null,
   "id": "d9af0552",
   "metadata": {},
   "outputs": [],
   "source": [
    "abc$ = 12\n",
    "print(abc$)"
   ]
  },
  {
   "cell_type": "code",
   "execution_count": null,
   "id": "4c79a77a",
   "metadata": {},
   "outputs": [],
   "source": [
    "name = input(\"enter your name:\")\n",
    "print(\"Welcome our hero:\\n\", name)\n",
    "name = input(\"Enter your changed name = \")\n",
    "print(\"Your name is changed to:\\n\", name)"
   ]
  },
  {
   "cell_type": "code",
   "execution_count": null,
   "id": "c30fa930",
   "metadata": {},
   "outputs": [],
   "source": [
    "print(\"    *\")           \n",
    "print(\"   *  *\")\n",
    "print(\"  *    *\")\n",
    "print(\" *------*\")"
   ]
  },
  {
   "cell_type": "code",
   "execution_count": null,
   "id": "df5a09dd",
   "metadata": {},
   "outputs": [],
   "source": [
    "print(5&4)"
   ]
  },
  {
   "cell_type": "code",
   "execution_count": null,
   "id": "6ae0729e",
   "metadata": {},
   "outputs": [],
   "source": [
    "#initial decoration\n",
    "print(\"-\"*50)\n",
    "shop_name = \"Spencer Retail\"\n",
    "Address = \"136, Garia Station Road,\"\n",
    "code = \"Kolkata:700084\"\n",
    "print(shop_name)\n",
    "print(Address)\n",
    "print(code)\n",
    "print(\"-\"*50)\n",
    "#pricing details\n",
    "Apricot = 300\n",
    "Dates = 400\n",
    "Almond = 500 \n",
    "apricot_dates= (Apricot + Dates) * 0.9 #10%off\n",
    "apricot_almond = ( Apricot + Almond) * 0.9\n",
    "DatesAlmond = (Dates + Almond) * 0.9\n",
    "DatesAlmondApricot = (Dates + Almond + Apricot) * 0.75#5% off\n",
    "print(\"product(s)\\tprice(per pack)\")\n",
    "print(f\"Apricot\\t\\t{Apricot}\")\n",
    "print(f\"Dates\\t\\t{Dates}\")\n",
    "print(f\"Almond\\t\\t{Almond}\")\n",
    "print(f\"combo-1\\t\\t{apricot_dates}\")\n",
    "print(f\"conbo-2\\t\\t{apricot_almond}\")\n",
    "print(f\"combo-3\\t\\t{DatesAlmond}\")\n",
    "print(f\"GiftBox\\t\\t{DatesAlmondApricot}\")\n",
    "#final decoration\n",
    "print(\"*\"*50)\n",
    "contact_number = \"123-456-789\"\n",
    "print(\"For free delivery, contact \", contact_number)\n",
    "print(\"*\"*50)\n",
    "\n"
   ]
  },
  {
   "cell_type": "code",
   "execution_count": null,
   "id": "a2cc14ea",
   "metadata": {},
   "outputs": [],
   "source": [
    "print(\"hello,\\nReader\")"
   ]
  },
  {
   "cell_type": "code",
   "execution_count": null,
   "id": "af2df7c6",
   "metadata": {},
   "outputs": [],
   "source": [
    "print(''' The height of andrew is 6'9\"   ''')"
   ]
  },
  {
   "cell_type": "code",
   "execution_count": null,
   "id": "986cf7e7",
   "metadata": {},
   "outputs": [],
   "source": [
    "x = 12\n",
    "print(\"X=\"+ str(x))"
   ]
  },
  {
   "cell_type": "code",
   "execution_count": null,
   "id": "643c5f94",
   "metadata": {},
   "outputs": [],
   "source": [
    "x = \"2+2\"\n",
    "print(x)\n",
    "y = eval(x)\n",
    "print(y)"
   ]
  },
  {
   "cell_type": "code",
   "execution_count": null,
   "id": "49972446",
   "metadata": {},
   "outputs": [],
   "source": [
    "from random import randint\n",
    "x = randint(0,12)\n",
    "question1 = \"2*(3+5)/2\"\n",
    "\n",
    "\n",
    "question1 = question1.replace(\"2\",str(x))\n",
    "\n",
    "question2 = \"3+5+(4/2)*6\"\n",
    "question2 = question2.replace(\"6\",str(x))\n",
    "number = randint(1,2)\n",
    "print(number)\n",
    "if number == 1:\n",
    "    quiz = question1\n",
    "    \n",
    "else:\n",
    "    quiz = question2\n",
    "    \n",
    "  \n",
    "print(\"SOLVE:\", quiz)\n",
    "answer = float(input(\"Enter your answer here\"))\n",
    "result = eval(quiz)\n",
    "if result == answer:\n",
    "    print(\"Correct\")\n",
    "else:\n",
    "    print(f\"Wrong the correct aswer is {result}\")\n"
   ]
  },
  {
   "cell_type": "code",
   "execution_count": null,
   "id": "4bda6100",
   "metadata": {},
   "outputs": [],
   "source": [
    "x = \"2.2+3\"\n",
    "print(eval(x))"
   ]
  },
  {
   "cell_type": "code",
   "execution_count": null,
   "id": "7f764700",
   "metadata": {},
   "outputs": [],
   "source": [
    "current_value = 1\n",
    "while current_value <= 10:\n",
    "    print(current_value)\n",
    "    current_value += 1 \n",
    "print(\"Finally iam out of loop\")\n",
    "    \n"
   ]
  },
  {
   "cell_type": "code",
   "execution_count": null,
   "id": "10256055",
   "metadata": {},
   "outputs": [],
   "source": [
    "employee_name = [\"Hari\", \"Krishna\", \"Shyam\",]\n",
    "for i in employee_name:\n",
    "    print(i)"
   ]
  },
  {
   "cell_type": "code",
   "execution_count": null,
   "id": "7ac24a1d",
   "metadata": {},
   "outputs": [],
   "source": [
    "employee_name = [\"Hari\", \"Shyam\",\"krishna\"]\n",
    "iterator = iter(employee_name)\n",
    "print(next(iterator))\n",
    "print(next(iterator))\n",
    "print(next(iterator))"
   ]
  },
  {
   "cell_type": "code",
   "execution_count": null,
   "id": "4e3101d3",
   "metadata": {},
   "outputs": [],
   "source": [
    "current_value = 1\n",
    "while current_value <= 5:\n",
    "    print(f\"value={current_value}\")\n",
    "    current_value += 1\n",
    "    print(\"Iam still inside the loop\")\n",
    "    if current_value == 3:\n",
    "        break\n",
    "print(f\"value = {current_value}\")\n",
    "print(\"Iam outside the loop\")"
   ]
  },
  {
   "cell_type": "code",
   "execution_count": null,
   "id": "d2d10b56",
   "metadata": {},
   "outputs": [],
   "source": [
    "for i in range(1,100):\n",
    "    \n",
    "   input_text =  input('Enter the input text or type \"quit\" to exit:')\n",
    "   if input_text != 'quit':\n",
    "        number = float(input_text)\n",
    "        if number > 0:\n",
    "            print(\"Positive\")\n",
    "        if number < 0:\n",
    "            print(\"Negative\")\n",
    "   else:\n",
    "    break\n",
    "print(\"You quit\")\n",
    "\n",
    "   "
   ]
  },
  {
   "cell_type": "code",
   "execution_count": null,
   "id": "e8611ffb",
   "metadata": {},
   "outputs": [],
   "source": [
    "attempt_number = 1\n",
    "\n",
    "while attempt_number != 3:\n",
    "   \n",
    "\n"
   ]
  },
  {
   "cell_type": "code",
   "execution_count": null,
   "id": "d6d14b0e",
   "metadata": {},
   "outputs": [],
   "source": [
    "list = [2,3,4.5,6,12]\n",
    "for i in range (2,6):\n",
    "    print(list[i])\n",
    "\n"
   ]
  },
  {
   "cell_type": "code",
   "execution_count": 12,
   "id": "f36b85a9",
   "metadata": {},
   "outputs": [
    {
     "name": "stdout",
     "output_type": "stream",
     "text": [
      "4\n",
      "5\n",
      "6\n",
      "7\n"
     ]
    }
   ],
   "source": [
    "list = [4,5,6,7]\n",
    "for number in list:\n",
    "    \n",
    "    print(number)\n"
   ]
  },
  {
   "cell_type": "code",
   "execution_count": 2,
   "id": "c917e98c",
   "metadata": {},
   "outputs": [
    {
     "name": "stdout",
     "output_type": "stream",
     "text": [
      "5\n",
      "Enter the no.4\n",
      "Little Higher\n",
      "you have 2 chnace left\n",
      "Enter the no.7\n",
      "Little Lower\n",
      "you have 1 chnace left\n",
      "Enter the no.8\n",
      "Little Lower\n",
      "you have 0 chnace left\n"
     ]
    }
   ],
   "source": [
    "from random import randint\n",
    "attempt_number = 0\n",
    "number = randint(1,15)\n",
    "print(number)\n",
    "while attempt_number != 3:   \n",
    "    attempt_number += 1 \n",
    "    gussed_number = int(input(\"Enter the no.\"))\n",
    "    if number == gussed_number:\n",
    "                        \n",
    "                        print(f\"correct, you gussed while in {3 - attempt_number} left\")\n",
    "                        break\n",
    "    elif number > gussed_number :\n",
    "        print(\"Little Higher\")\n",
    "        print(f\"you have {3-attempt_number} chnace left\")\n",
    "    elif number < gussed_number:\n",
    "        print(\"Little Lower\")\n",
    "        print(f\"you have {3-attempt_number} chnace left\")\n",
    "                       \n",
    "                    \n",
    "            \n",
    "    \n",
    "\n",
    "                        \n",
    "                        \n",
    "                        \n",
    "    "
   ]
  },
  {
   "cell_type": "code",
   "execution_count": 3,
   "id": "4682db7b",
   "metadata": {},
   "outputs": [
    {
     "name": "stdout",
     "output_type": "stream",
     "text": [
      "The original list is as follows:\n",
      "['John', 12, 'Sam', True, 50.7]\n",
      "Changing the element at index 2.\n",
      "Now the list is as follows:\n",
      "['John', 12, 'Bob', True, 50.7]\n"
     ]
    }
   ],
   "source": [
    "# You can reassign a new value inside the list\n",
    "my_list = [\"John\", 12, \"Sam\", True, 50.7]\n",
    "print(\"The original list is as follows:\")\n",
    "print(my_list)\n",
    "print(\"Changing the element at index 2.\")\n",
    "my_list[2] = \"Bob\"\n",
    "print(\"Now the list is as follows:\")\n",
    "print(my_list)\n",
    "                        "
   ]
  },
  {
   "cell_type": "code",
   "execution_count": 10,
   "id": "cc2f838a",
   "metadata": {},
   "outputs": [
    {
     "name": "stdout",
     "output_type": "stream",
     "text": [
      "The original list is as follows:\n",
      "['John', 12, 'Sam', True, 50.7]\n",
      "Changing the element at index 2.\n",
      "Now the list is as follows:\n",
      "['John', 12, 'Hari', True, 50.7]\n"
     ]
    }
   ],
   "source": [
    "my_list = [\"John\", 12, \"Sam\", True, 50.7]\n",
    "print(\"The original list is as follows:\")\n",
    "print(my_list)\n",
    "print(\"Changing the element at index 2.\")\n",
    "my_list[2] = \"Hari\"\n",
    "print(\"Now the list is as follows:\")\n",
    "print(my_list)"
   ]
  },
  {
   "cell_type": "code",
   "execution_count": 11,
   "id": "ce699bef",
   "metadata": {},
   "outputs": [
    {
     "name": "stdout",
     "output_type": "stream",
     "text": [
      "['ram', 'hari', '2.5$', 'laxman', 'Hotdog', 'sandwich', 'Price', 'Bread']\n"
     ]
    }
   ],
   "source": [
    "list1 = [\"ram\", \"hari\", \"2.5$\", \"laxman\"]\n",
    "list2 = [\"Hotdog\",\"sandwich\",\"Price\",\"Bread\"]\n",
    "final = list1 + list2\n",
    "print(final)"
   ]
  },
  {
   "cell_type": "code",
   "execution_count": 40,
   "id": "115f39ec",
   "metadata": {},
   "outputs": [
    {
     "name": "stdout",
     "output_type": "stream",
     "text": [
      "False\n"
     ]
    }
   ],
   "source": [
    "list1 = [\"hari\", \"2.5$\", \"laxman\",\"ram\"]\n",
    "\n",
    "list1.insert(3,\"Shyam\")\n",
    "print(\"laxmna\" in list1 )\n",
    "\n"
   ]
  },
  {
   "cell_type": "code",
   "execution_count": 45,
   "id": "9087e662",
   "metadata": {},
   "outputs": [
    {
     "name": "stdout",
     "output_type": "stream",
     "text": [
      "Original Tuple:(1, 2, 3, 4, 5)\n",
      "Reversed Tuple:(5, 4, 3, 2, 1)\n"
     ]
    }
   ],
   "source": [
    "my_tuple = (1,2,3,4,5)\n",
    "print(f\"Original Tuple:{my_tuple}\")\n",
    "rev_tuple = tuple(reversed(my_tuple))\n",
    "print(f\"Reversed Tuple:{rev_tuple}\")"
   ]
  },
  {
   "cell_type": "code",
   "execution_count": 43,
   "id": "ee17109e",
   "metadata": {},
   "outputs": [
    {
     "name": "stdout",
     "output_type": "stream",
     "text": [
      "jack\n"
     ]
    }
   ],
   "source": [
    "my_dictionary = {'ritesh':'jack', 2:2, 3:'Roshan', 2:'Kamlesh'}\n",
    "print(my_dictionary['ritesh'])"
   ]
  },
  {
   "cell_type": "code",
   "execution_count": 12,
   "id": "38c37eb9",
   "metadata": {},
   "outputs": [
    {
     "name": "stdout",
     "output_type": "stream",
     "text": [
      "My set1 contains:\n",
      "{1, 2, 3, 'Suresh', 'Ramesh'}\n",
      "My set2 contains:\n",
      "{'bob', 'Hari', 'Shyam', 'Sam'}\n"
     ]
    }
   ],
   "source": [
    "my_set1 = {1,2,3,\"Ramesh\",\"Suresh\", 1, 2, 3}\n",
    "print(\"My set1 contains:\")\n",
    "print(my_set1)\n",
    "my_set2 = {\"bob\", \"Sam\", \"Hari\", \"Shyam\", \"bob\", \"Hari\"}\n",
    "print(\"My set2 contains:\")\n",
    "print(my_set2)"
   ]
  },
  {
   "cell_type": "code",
   "execution_count": 16,
   "id": "b3d47651",
   "metadata": {},
   "outputs": [
    {
     "name": "stdout",
     "output_type": "stream",
     "text": [
      "The set is \n",
      "set()\n"
     ]
    },
    {
     "ename": "TypeError",
     "evalue": "set.add() takes exactly one argument (2 given)",
     "output_type": "error",
     "traceback": [
      "\u001b[1;31m---------------------------------------------------------------------------\u001b[0m",
      "\u001b[1;31mTypeError\u001b[0m                                 Traceback (most recent call last)",
      "Cell \u001b[1;32mIn[16], line 4\u001b[0m\n\u001b[0;32m      2\u001b[0m \u001b[38;5;28mprint\u001b[39m(\u001b[38;5;124m\"\u001b[39m\u001b[38;5;124mThe set is \u001b[39m\u001b[38;5;124m\"\u001b[39m)\n\u001b[0;32m      3\u001b[0m \u001b[38;5;28mprint\u001b[39m(my_set)\n\u001b[1;32m----> 4\u001b[0m my_set\u001b[38;5;241m.\u001b[39madd(\u001b[38;5;241m6\u001b[39m,\u001b[38;5;241m12\u001b[39m)\n\u001b[0;32m      5\u001b[0m \u001b[38;5;28mprint\u001b[39m(my_set)\n",
      "\u001b[1;31mTypeError\u001b[0m: set.add() takes exactly one argument (2 given)"
     ]
    }
   ],
   "source": [
    "my_set = set()\n",
    "print(\"The set is \")\n",
    "print(my_set)\n",
    "my_set.add(6)\n",
    "print(my_set)"
   ]
  },
  {
   "cell_type": "code",
   "execution_count": 18,
   "id": "de081acc",
   "metadata": {},
   "outputs": [
    {
     "name": "stdout",
     "output_type": "stream",
     "text": [
      "{'N', 'c', 's', 'h', 'l', 'a', 'i'}\n"
     ]
    }
   ],
   "source": [
    "my_name = 'Nischal'\n",
    "my_set = set(my_name)\n",
    "print(my_set)"
   ]
  },
  {
   "cell_type": "code",
   "execution_count": 23,
   "id": "db006fbf",
   "metadata": {},
   "outputs": [
    {
     "name": "stdout",
     "output_type": "stream",
     "text": [
      "[1, 2, 3, 4, 5]\n",
      "[1, 2, 3]\n"
     ]
    }
   ],
   "source": [
    "#E6.1\n",
    "my_list = [1,2,3,4,5]\n",
    "print(my_list)\n",
    "del(my_list[-2:])\n",
    "print(my_list)"
   ]
  },
  {
   "cell_type": "code",
   "execution_count": 26,
   "id": "de320984",
   "metadata": {},
   "outputs": [
    {
     "name": "stdout",
     "output_type": "stream",
     "text": [
      "Hari\n"
     ]
    }
   ],
   "source": [
    "my_tuple = (1,2,3,\"shyam\", \"Hari\", \"Nischal\",\"Bimisha\")\n",
    "print(my_tuple[-3])"
   ]
  },
  {
   "cell_type": "code",
   "execution_count": 33,
   "id": "cbe2c8ca",
   "metadata": {},
   "outputs": [
    {
     "name": "stdout",
     "output_type": "stream",
     "text": [
      "(5, 4, 4, 4, 3, 2, 2, 1)\n",
      "3\n"
     ]
    }
   ],
   "source": [
    "new_tuple = (1,2,2,3,4,4,4,5)\n",
    "rev_tuple = tuple(reversed(new_tuple))\n",
    "print(rev_tuple)\n",
    "print(new_tuple.count(4))"
   ]
  },
  {
   "cell_type": "code",
   "execution_count": 34,
   "id": "16e90ccb",
   "metadata": {},
   "outputs": [
    {
     "name": "stdout",
     "output_type": "stream",
     "text": [
      "The my_set is:\n",
      "{1, 2, 3, 4, 5}\n"
     ]
    }
   ],
   "source": [
    "my_tuple = (1, 2, 2, 3, 4, 4, 5)\n",
    "my_set = set(my_tuple)\n",
    "print(\"The my_set is:\")\n",
    "print(my_set)"
   ]
  },
  {
   "cell_type": "code",
   "execution_count": 35,
   "id": "dea6bb9f",
   "metadata": {},
   "outputs": [
    {
     "name": "stdout",
     "output_type": "stream",
     "text": [
      "The my_set is:\n",
      "{'blue', 'red'}\n"
     ]
    }
   ],
   "source": [
    "my_list=[\"red\", \"blue\"]\n",
    "my_set = set(my_list)\n",
    "print(\"The my_set is:\")\n",
    "print(my_set)\n",
    "my_set.discard(\"green\")\n"
   ]
  },
  {
   "cell_type": "code",
   "execution_count": 1,
   "id": "ed2aeaa6",
   "metadata": {},
   "outputs": [
    {
     "name": "stdout",
     "output_type": "stream",
     "text": [
      "Welcome to MCQ test.\n",
      "=============================\n",
      "Q1.What is the value of the expression:2*3-4?\n",
      "(a)1\n",
      "(b)2\n",
      "(c)3\n",
      "(d)None\n",
      "Type your answer(a/b/c/d):b\n",
      "Q2.What is the value of the expression:1+(2*3)/4?\n",
      "(a)1.5\n",
      "(b)3\n",
      "(c)3.5\n",
      "(d)None\n",
      "Type your answer(a/b/c/d):a\n",
      "Q3.The set data type can hold duplicate values.The satatement is:\n",
      "(a)False.5\n",
      "(b)True\n",
      "(c)Partially correct\n",
      "(d)None\n",
      "Type your answer(a/b/c/d):a\n",
      "you scored 2 out of 3\n"
     ]
    }
   ],
   "source": [
    "print(\"Welcome to MCQ test.\")\n",
    "print(\"=============================\")\n",
    "print(\"Q1.What is the value of the expression:2*3-4?\\n(a)1\\n(b)2\\n(c)3\\n(d)None\")\n",
    "answer_1 = input(\"Type your answer(a/b/c/d):\")\n",
    "print(\"Q2.What is the value of the expression:1+(2*3)/4?\\n(a)1.5\\n(b)3\\n(c)3.5\\n(d)None\")\n",
    "answer_2 = input(\"Type your answer(a/b/c/d):\")\n",
    "print(\"Q3.The set data type can hold duplicate values.The satatement is:\\n(a)False.5\\n(b)True\\n(c)Partially correct\\n(d)None\")\n",
    "answer_3 = input(\"Type your answer(a/b/c/d):\")\n",
    "answer_dict = {'q1': 'b','q2': 'd', 'q3': 'a'}\n",
    "score = 0 \n",
    "while answer_dict['q1'] == answer_1:\n",
    "    score += 1\n",
    "    break\n",
    "    \n",
    "while answer_dict['q2'] == answer_2:\n",
    "    score += 1\n",
    "    break\n",
    "    \n",
    "  \n",
    "while answer_dict['q3'] == answer_3:\n",
    "    score += 1\n",
    "    break\n",
    "   \n",
    "\n",
    "print(f\"you scored {score} out of 3\")\n",
    "\n"
   ]
  },
  {
   "cell_type": "code",
   "execution_count": 8,
   "id": "8d2bf49f",
   "metadata": {},
   "outputs": [
    {
     "name": "stdout",
     "output_type": "stream",
     "text": [
      "Welcome to the MCQ test.\n",
      "=========================\n",
      "Q1.What is the value of the expression:2*3-4?\n",
      "(a)1\n",
      "(b)2\n",
      "(c)3\n",
      "(d)None.\n",
      "Type your answer(a/b/c/d):a\n",
      "\n",
      "Q2.What is the value of the expression:1+(2*3)/4?\n",
      "(a)1.5\n",
      "(b)3\n",
      "(c)3.5\n",
      "(d)None.\n",
      "Type your answer(a/b/c/d):a\n",
      "\n",
      "Q3.The set data type can hold duplicate values.The statement is:\n",
      "(a)False\n",
      "(b)True\n",
      "(c)Partially correct.\n",
      "(d)None.\n",
      "Type your answer(a/b/c/d):a\n",
      "\n",
      "Your Score:1 out of 3\n"
     ]
    }
   ],
   "source": [
    "# All questions\n",
    "question1 = \"Q1.What is the value of the expression:2*3-4?\" \\\n",
    "\"\\n(a)1\" \\\n",
    "\"\\n(b)2\" \\\n",
    "\"\\n(c)3\" \\\n",
    "\"\\n(d)None.\"\n",
    "question2 = \"\\nQ2.What is the value of the expression:1+(2*3)/4?\" \\\n",
    "\"\\n(a)1.5\" \\\n",
    "\"\\n(b)3\" \\\n",
    "\"\\n(c)3.5\" \\\n",
    "\"\\n(d)None.\"\n",
    "question3 = \"\\nQ3.The set data type can hold duplicate values.\" \\\n",
    "\"The statement is:\" \\\n",
    "\"\\n(a)False\" \\\n",
    "\"\\n(b)True\" \\\n",
    "\"\\n(c)Partially correct.\" \\\n",
    "\"\\n(d)None.\"\n",
    "# Storing the questions with answer keys\n",
    "# inside the following dictionary.\n",
    "question_bank = {question1: \"b\",\n",
    "question2: \"c\",\n",
    "question3: \"a\"}\n",
    "print(\"Welcome to the MCQ test.\")\n",
    "print(\"=\"*25)\n",
    "score = 0 # initial value\n",
    "for key in question_bank:\n",
    "    print(key)\n",
    "    user_input = input(\"Type your answer(a/b/c/d):\")\n",
    "    if user_input == question_bank[key]:\n",
    "        score += 1\n",
    "print(f\"\\nYour Score:{score} out of {len(question_bank)}\")"
   ]
  },
  {
   "cell_type": "code",
   "execution_count": 5,
   "id": "2f65e428",
   "metadata": {},
   "outputs": [
    {
     "name": "stdout",
     "output_type": "stream",
     "text": [
      "Hello! Welcome Nischal.\n",
      "you are 23 year old.\n",
      "This is the detail of the function def_print:It prints the name and age.\n",
      "    \n"
     ]
    }
   ],
   "source": [
    "def print_details(name, age):\n",
    "    \"\"\"This is the detail of the function def_print:It prints the name and age.\n",
    "    \"\"\"\n",
    "    print(f\"Hello! Welcome {name}.\")\n",
    "    print(f\"you are {age} year old.\")\n",
    "print_details(\"Nischal\", 23)\n",
    "# print(print_details.__doc__)"
   ]
  },
  {
   "cell_type": "code",
   "execution_count": 3,
   "id": "f3db6fae",
   "metadata": {},
   "outputs": [
    {
     "name": "stdout",
     "output_type": "stream",
     "text": [
      "\n",
      "    This function takes two parameters.\n",
      "    You can supply the name and age of the user\n",
      "    in this function.\n",
      "    \n"
     ]
    }
   ],
   "source": [
    "def print_details(name,age):\n",
    "    \"\"\"\n",
    "    This function takes two parameters.\n",
    "    You can supply the name and age of the user\n",
    "    in this function.\n",
    "    \"\"\"\n",
    "    print(f\"Hello {name}!How are you?\")\n",
    "    print(f\"You are now {age}.\")\n",
    "# Now you can print this documentation using the following line of\n",
    "# code:\n",
    "print(print_details.__doc__)\n",
    "g"
   ]
  },
  {
   "cell_type": "code",
   "execution_count": 13,
   "id": "8ab44903",
   "metadata": {},
   "outputs": [
    {
     "name": "stdout",
     "output_type": "stream",
     "text": [
      "Enter the no. of total guest:3\n",
      "enter your name:NIschal\n",
      "enter your name:Manas\n",
      "enter your name:Mansa\n",
      "['NIschal', 'Manas', 'Mansa']\n",
      "Welcome NIschal.\n",
      "Welcome Manas.\n",
      "Welcome Mansa.\n"
     ]
    }
   ],
   "source": [
    "\n",
    "guest_name = []\n",
    "\n",
    "def welcome_guest(guest_name):\n",
    "    for element in guest_name:\n",
    "        print(f\"Welcome {element}.\")\n",
    "total_guest = int(input(\"Enter the no. of total guest:\"))\n",
    "for i in range(1,total_guest + 1):\n",
    "          name = input(\"enter your name:\")\n",
    "          guest_name.append(name)\n",
    "print(guest_name)\n",
    "\n",
    "welcome_guest(guest_name)\n",
    "    \n",
    "\n",
    "\n",
    "\n",
    "\n",
    "    \n",
    "        \n",
    "          \n",
    "\n"
   ]
  },
  {
   "cell_type": "code",
   "execution_count": 12,
   "id": "9b8c7867",
   "metadata": {},
   "outputs": [
    {
     "name": "stdout",
     "output_type": "stream",
     "text": [
      "Before Double List:[2, 3, 4, 5, 6]\n",
      "After Double List:[4, 6, 8, 10, 12]\n"
     ]
    }
   ],
   "source": [
    "initial_list = [2,3,4,5,6]\n",
    "double_list = []\n",
    "def make_double(initial_list):\n",
    "    for element in initial_list:\n",
    "        double_list.append(2*element)\n",
    "make_double(initial_list = initial_list)\n",
    "print(f\"Before Double List:{initial_list}\")\n",
    "print(f\"After Double List:{double_list}\")"
   ]
  },
  {
   "cell_type": "code",
   "execution_count": 3,
   "id": "5c1d0052",
   "metadata": {},
   "outputs": [
    {
     "name": "stdout",
     "output_type": "stream",
     "text": [
      "Hello world\n"
     ]
    }
   ],
   "source": [
    "print_hello = lambda:print(\"Hello world\")\n",
    "print_hello()"
   ]
  },
  {
   "cell_type": "code",
   "execution_count": 4,
   "id": "0ac79602",
   "metadata": {},
   "outputs": [
    {
     "name": "stdout",
     "output_type": "stream",
     "text": [
      "The double of 10 is 20\n"
     ]
    }
   ],
   "source": [
    "make_double = lambda x:x*2\n",
    "print(f\"The double of 10 is {make_double(10)}\")"
   ]
  },
  {
   "cell_type": "code",
   "execution_count": 18,
   "id": "b420d32b",
   "metadata": {},
   "outputs": [
    {
     "name": "stdout",
     "output_type": "stream",
     "text": [
      "h e l l o   W o r l d I A m   p y t h o n "
     ]
    }
   ],
   "source": [
    "a = \"hello World.IAm python_\"\n",
    "for word in a:\n",
    "    if word != \".\" and word != \"_\":\n",
    "        print(word, end = ' ')"
   ]
  },
  {
   "cell_type": "code",
   "execution_count": 4,
   "id": "bba5ea38",
   "metadata": {},
   "outputs": [
    {
     "name": "stdout",
     "output_type": "stream",
     "text": [
      "0\n",
      "1\n",
      "2\n",
      "3\n",
      "4\n",
      "5\n"
     ]
    }
   ],
   "source": [
    "for i in range (0,10):\n",
    "    if i == 5:\n",
    "        break\n",
    "    print(f\"The value is {i} iam out of for for loop\")\n",
    "print(\"Iam out od for loop and if-else statement\")\n",
    "    "
   ]
  },
  {
   "cell_type": "code",
   "execution_count": 13,
   "id": "025f68dd",
   "metadata": {},
   "outputs": [
    {
     "name": "stdout",
     "output_type": "stream",
     "text": [
      "Enter a number11\n",
      "Prime\n"
     ]
    }
   ],
   "source": [
    "increment = 0\n",
    "number = int(input(\"Enter a number\"))\n",
    "for i in range (1,number+1):\n",
    "    if (number % i) == 0:\n",
    "        increment += 1\n",
    "        \n",
    "if increment == 2:\n",
    "    print(\"Prime\")\n",
    "else:\n",
    "    print(\"Composite\")\n",
    "    "
   ]
  },
  {
   "cell_type": "code",
   "execution_count": null,
   "id": "2bcbb904",
   "metadata": {},
   "outputs": [],
   "source": [
    "my_list = [1,2,3,4,5]\n",
    "name_list = [\"Nischal\",\"Bimisha\",\"Hari\"]"
   ]
  },
  {
   "cell_type": "code",
   "execution_count": 3,
   "id": "c39c9d7a",
   "metadata": {},
   "outputs": [
    {
     "ename": "ModuleNotFoundError",
     "evalue": "No module named 'practice'",
     "output_type": "error",
     "traceback": [
      "\u001b[1;31m---------------------------------------------------------------------------\u001b[0m",
      "\u001b[1;31mModuleNotFoundError\u001b[0m                       Traceback (most recent call last)",
      "Cell \u001b[1;32mIn[3], line 1\u001b[0m\n\u001b[1;32m----> 1\u001b[0m \u001b[38;5;28;01mfrom\u001b[39;00m \u001b[38;5;21;01mpractice\u001b[39;00m\u001b[38;5;21;01m.\u001b[39;00m\u001b[38;5;21;01mpy\u001b[39;00m \u001b[38;5;28;01mimport\u001b[39;00m my_list \u001b[38;5;28;01mas\u001b[39;00m \u001b[38;5;28mlist\u001b[39m\n\u001b[0;32m      2\u001b[0m \u001b[38;5;28mprint\u001b[39m(\u001b[38;5;28mlist\u001b[39m)\n",
      "\u001b[1;31mModuleNotFoundError\u001b[0m: No module named 'practice'"
     ]
    }
   ],
   "source": [
    "from practice.py import my_list as list\n",
    "print(list)"
   ]
  },
  {
   "cell_type": "code",
   "execution_count": 7,
   "id": "dcb41425",
   "metadata": {},
   "outputs": [
    {
     "name": "stdout",
     "output_type": "stream",
     "text": [
      "Enter a number4\n",
      "Not a prime number\n"
     ]
    }
   ],
   "source": [
    "flag = False\n",
    "num = int(input(\"Enter a number\"))\n",
    "if num == 1:\n",
    "    print(\"1 is prime number\")\n",
    "else:\n",
    "    for i in range(2, num):\n",
    "        if num % i == 0:\n",
    "            flag = True\n",
    "            break\n",
    "if flag:\n",
    "    print(\"Not a prime number\")\n",
    "else:\n",
    "    print(\"Prime number\")"
   ]
  },
  {
   "cell_type": "code",
   "execution_count": 14,
   "id": "cb0300a4",
   "metadata": {},
   "outputs": [
    {
     "name": "stdout",
     "output_type": "stream",
     "text": [
      "x=10\n",
      "Now x=12\n",
      "Here x=10\n"
     ]
    }
   ],
   "source": [
    "x = 10\n",
    "print(f\"x={x}\")\n",
    "def print_me(x):\n",
    "    x += 2\n",
    "    print(f\"Now x={x}\")\n",
    "print_me(x)\n",
    "print(f\"Here x={x}\")"
   ]
  },
  {
   "cell_type": "code",
   "execution_count": 18,
   "id": "fc009b77",
   "metadata": {},
   "outputs": [
    {
     "name": "stdout",
     "output_type": "stream",
     "text": [
      "==================================================\n",
      "This is a simple calculator.\n",
      "It supports simple calculation\n",
      "i)Addition\n",
      "ii)Substraction\n",
      "iii)Multiplication and\n",
      "iv)Division\n",
      "==================================================\n",
      "Enter the first number:3\n",
      "Enter the second number:4\n",
      "Enter an operator(+,-,*,/)/\n",
      "0.75\n"
     ]
    }
   ],
   "source": [
    "print(\"=\"*50)\n",
    "print(\"This is a simple calculator.\\nIt supports simple calculation\")\n",
    "print(\"i)Addition\\nii)Substraction\\niii)Multiplication and\\niv)Division\")\n",
    "print(\"=\"*50)\n",
    "def math_calculator(operator, num1, num2):\n",
    "    if operator == \"+\":\n",
    "        print(num1 + num2)\n",
    "    elif operator == \"-\":\n",
    "        print(num1 - num2)\n",
    "    elif operator == \"*\":\n",
    "        print(num1*num2)\n",
    "    elif operator == \"/\":\n",
    "        print(num1/num2)\n",
    "    else:\n",
    "        print(\"Invalid operator.Cannot compute the result\")\n",
    "num1 = int(input(\"Enter the first number:\"))\n",
    "num2 = int(input(\"Enter the second number:\"))\n",
    "operator = input(\"Enter an operator(+,-,*,/)\")\n",
    "math_calculator(operator, num1, num2)\n",
    "    \n",
    "    "
   ]
  },
  {
   "cell_type": "code",
   "execution_count": 4,
   "id": "9c8bd2f0",
   "metadata": {},
   "outputs": [
    {
     "name": "stdout",
     "output_type": "stream",
     "text": [
      "Enter a number = 56\n",
      "This is not prime\n"
     ]
    }
   ],
   "source": [
    "n = int(input(\"Enter a number = \"))\n",
    "i = 2\n",
    "flag = False\n",
    "while i <= n-1 :\n",
    "    if n % i == 0:\n",
    "        flag = True\n",
    "        break\n",
    "    i += 1\n",
    "if flag == True:\n",
    "    print(\"This is not prime\")\n",
    "else:\n",
    "    print(\"The is prime\")"
   ]
  },
  {
   "cell_type": "code",
   "execution_count": 9,
   "id": "5b5c0298",
   "metadata": {},
   "outputs": [
    {
     "name": "stdout",
     "output_type": "stream",
     "text": [
      "Hello world"
     ]
    }
   ],
   "source": [
    "[]"
   ]
  },
  {
   "cell_type": "code",
   "execution_count": 3,
   "id": "2034526a",
   "metadata": {},
   "outputs": [
    {
     "name": "stdout",
     "output_type": "stream",
     "text": [
      "Nischal Hari Sita Geta Laxman\n",
      "['Nischal', 'Hari', 'Sita', 'Geta', 'Laxman']\n"
     ]
    }
   ],
   "source": [
    "a = \"Ram Hari Sita Geta Laxman\"\n",
    "a = a.replace(\"Ram\",\"Nischal\")\n",
    "print(a)\n",
    "print(a.split())"
   ]
  },
  {
   "cell_type": "markdown",
   "id": "60b94769",
   "metadata": {},
   "source": []
  },
  {
   "cell_type": "code",
   "execution_count": 3,
   "id": "ef215fb1",
   "metadata": {},
   "outputs": [
    {
     "name": "stdout",
     "output_type": "stream",
     "text": [
      "['banana', 'cat', 'nischal']\n"
     ]
    }
   ],
   "source": []
  },
  {
   "cell_type": "code",
   "execution_count": 5,
   "id": "26474c66",
   "metadata": {},
   "outputs": [],
   "source": [
    "list = [\"ball\", \"Hari\", \"shyam\", \"laxman\", \"ball\",\"Hari\"]\n",
    "if \"ball\" in list:\n",
    "    list.remove(\"ball\")\n",
    "else:\n",
    "    print(list)\n"
   ]
  },
  {
   "cell_type": "code",
   "execution_count": 10,
   "id": "78320adc",
   "metadata": {},
   "outputs": [
    {
     "name": "stdout",
     "output_type": "stream",
     "text": [
      "0\n",
      "1\n",
      "['ball', 'Hari', 'shyam', 'laxman', 'ball', 'Hari']\n"
     ]
    }
   ],
   "source": [
    "my_list = [\"ball\", \"Hari\", \"shyam\", \"laxman\", \"ball\", \"Hari\"]\n",
    "n = my_list.count(\"ball\")\n",
    "for i in range(n):\n",
    "    print()\n",
    "print(my_list)"
   ]
  },
  {
   "cell_type": "code",
   "execution_count": 11,
   "id": "9a49b487",
   "metadata": {},
   "outputs": [],
   "source": [
    "def length(no = \"Null\"):\n",
    "    count = 0\n",
    "    for items in no:\n",
    "        if items == \" \":\n",
    "            continue\n",
    "        else:\n",
    "            count +=1\n",
    "    return count\n"
   ]
  },
  {
   "cell_type": "code",
   "execution_count": 12,
   "id": "e504827d",
   "metadata": {},
   "outputs": [
    {
     "name": "stdout",
     "output_type": "stream",
     "text": [
      "19\n"
     ]
    }
   ],
   "source": [
    "total = length(\"nischal chand thakuri\")\n",
    "print(total)"
   ]
  },
  {
   "cell_type": "code",
   "execution_count": null,
   "id": "22d5d694",
   "metadata": {},
   "outputs": [],
   "source": []
  }
 ],
 "metadata": {
  "kernelspec": {
   "display_name": "Python 3 (ipykernel)",
   "language": "python",
   "name": "python3"
  },
  "language_info": {
   "codemirror_mode": {
    "name": "ipython",
    "version": 3
   },
   "file_extension": ".py",
   "mimetype": "text/x-python",
   "name": "python",
   "nbconvert_exporter": "python",
   "pygments_lexer": "ipython3",
   "version": "3.11.5"
  }
 },
 "nbformat": 4,
 "nbformat_minor": 5
}
