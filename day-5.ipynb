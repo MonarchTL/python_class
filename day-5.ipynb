{
 "cells": [
  {
   "cell_type": "code",
   "execution_count": 8,
   "id": "f40ec992",
   "metadata": {},
   "outputs": [
    {
     "name": "stdout",
     "output_type": "stream",
     "text": [
      "[3, 2, 6, 6]\n",
      "[6, 4, 12, 12]\n"
     ]
    }
   ],
   "source": [
    "def make_double(initiaL_list):\n",
    "    for number in initial_list:\n",
    "        double_list.append(2*number)\n",
    "\n",
    "initial_list = [3,2,6,6]\n",
    "double_list = []\n",
    "print(initial_list)\n",
    "\n",
    "make_double(initial_list)\n",
    "\n",
    "print(double_list)"
   ]
  },
  {
   "cell_type": "code",
   "execution_count": null,
   "id": "aa8e5ca6",
   "metadata": {},
   "outputs": [],
   "source": []
  }
 ],
 "metadata": {
  "kernelspec": {
   "display_name": "Python 3 (ipykernel)",
   "language": "python",
   "name": "python3"
  },
  "language_info": {
   "codemirror_mode": {
    "name": "ipython",
    "version": 3
   },
   "file_extension": ".py",
   "mimetype": "text/x-python",
   "name": "python",
   "nbconvert_exporter": "python",
   "pygments_lexer": "ipython3",
   "version": "3.11.5"
  }
 },
 "nbformat": 4,
 "nbformat_minor": 5
}
