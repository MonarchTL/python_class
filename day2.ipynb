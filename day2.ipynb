{
 "cells": [
  {
   "cell_type": "code",
   "execution_count": 7,
   "id": "d011fcf8",
   "metadata": {},
   "outputs": [
    {
     "name": "stdout",
     "output_type": "stream",
     "text": [
      "Enter Marks in Physics 90\n",
      "Enter Marks in Chemistry 90\n",
      "Enter marks in nepali 90\n",
      "per= 90.0\n"
     ]
    }
   ],
   "source": [
    "phy_marks = float(input(\"Enter Marks in Physics \"))\n",
    "chem_marks = float(input(\"Enter Marks in Chemistry \"))\n",
    "nep_marks = float(input(\"Enter marks in nepali \"))\n",
    "total = phy_marks + chem_marks + nep_marks\n",
    "result = (total/3)\n",
    "print(\"per=\",result)"
   ]
  },
  {
   "cell_type": "code",
   "execution_count": null,
   "id": "1a2d8f97",
   "metadata": {},
   "outputs": [],
   "source": []
  },
  {
   "cell_type": "code",
   "execution_count": null,
   "id": "444049ad",
   "metadata": {},
   "outputs": [],
   "source": []
  },
  {
   "cell_type": "code",
   "execution_count": null,
   "id": "cab540e6",
   "metadata": {},
   "outputs": [],
   "source": []
  }
 ],
 "metadata": {
  "kernelspec": {
   "display_name": "Python 3 (ipykernel)",
   "language": "python",
   "name": "python3"
  },
  "language_info": {
   "codemirror_mode": {
    "name": "ipython",
    "version": 3
   },
   "file_extension": ".py",
   "mimetype": "text/x-python",
   "name": "python",
   "nbconvert_exporter": "python",
   "pygments_lexer": "ipython3",
   "version": "3.11.5"
  }
 },
 "nbformat": 4,
 "nbformat_minor": 5
}
