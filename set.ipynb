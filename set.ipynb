{
 "cells": [
  {
   "cell_type": "code",
   "execution_count": 4,
   "id": "ac77dd12",
   "metadata": {},
   "outputs": [
    {
     "name": "stdout",
     "output_type": "stream",
     "text": [
      "{'Steve', 'Tom', 'bob'}\n"
     ]
    }
   ],
   "source": [
    "apple = {\"Steve\", \"bob\",\"Samuel\",\"Richard\", \"Tom\",\"Jenny\"}\n",
    "ms = {\"bob\", \"Henry\", \"Elizabeth\", \"JJ\", \"Tom\",\"Steve\"}\n",
    "intrs = apple.intersection(ms)\n",
    "print(intrs)"
   ]
  },
  {
   "cell_type": "code",
   "execution_count": 5,
   "id": "8bbc3dbe",
   "metadata": {},
   "outputs": [
    {
     "name": "stdout",
     "output_type": "stream",
     "text": [
      "{'Tom', 'Elizabeth', 'Richard', 'bob', 'JJ', 'Samuel', 'Henry', 'Steve', 'Jenny'}\n"
     ]
    }
   ],
   "source": [
    "un = apple.union(ms)\n",
    "print(un)"
   ]
  },
  {
   "cell_type": "code",
   "execution_count": null,
   "id": "0e2cbac8",
   "metadata": {},
   "outputs": [],
   "source": []
  },
  {
   "cell_type": "code",
   "execution_count": null,
   "id": "1db7c926",
   "metadata": {},
   "outputs": [],
   "source": []
  }
 ],
 "metadata": {
  "kernelspec": {
   "display_name": "Python 3 (ipykernel)",
   "language": "python",
   "name": "python3"
  },
  "language_info": {
   "codemirror_mode": {
    "name": "ipython",
    "version": 3
   },
   "file_extension": ".py",
   "mimetype": "text/x-python",
   "name": "python",
   "nbconvert_exporter": "python",
   "pygments_lexer": "ipython3",
   "version": "3.11.5"
  }
 },
 "nbformat": 4,
 "nbformat_minor": 5
}
