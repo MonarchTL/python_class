{
 "cells": [
  {
   "cell_type": "code",
   "execution_count": 1,
   "id": "f84788ed",
   "metadata": {},
   "outputs": [],
   "source": [
    "#importing dependencies\n",
    "import numpy as np\n",
    "import pandas as pd\n",
    "import re,string\n",
    "import matplotlib.pyplot as plt\n",
    "import nltk\n",
    "from nltk.corpus import stopwords\n",
    "from nltk.stem import PorterStemmer\n",
    "from sklearn.feature_extraction.text import TfidfVectorizer\n",
    "from sklearn.pipeline import Pipeline\n",
    "from sklearn.metrics import classification_report, confusion_matrix\n",
    "from sklearn.model_selection import train_test_split\n",
    "from sklearn.feature_selection import SelectKBest, chi2\n",
    "import pickle\n",
    "# nltk.download('stopwords')\n",
    "# %matplotlib inline"
   ]
  },
  {
   "cell_type": "code",
   "execution_count": 2,
   "id": "6b6b7e8b",
   "metadata": {},
   "outputs": [
    {
     "data": {
      "text/html": [
       "<div>\n",
       "<style scoped>\n",
       "    .dataframe tbody tr th:only-of-type {\n",
       "        vertical-align: middle;\n",
       "    }\n",
       "\n",
       "    .dataframe tbody tr th {\n",
       "        vertical-align: top;\n",
       "    }\n",
       "\n",
       "    .dataframe thead th {\n",
       "        text-align: right;\n",
       "    }\n",
       "</style>\n",
       "<table border=\"1\" class=\"dataframe\">\n",
       "  <thead>\n",
       "    <tr style=\"text-align: right;\">\n",
       "      <th></th>\n",
       "      <th>category</th>\n",
       "      <th>text</th>\n",
       "    </tr>\n",
       "  </thead>\n",
       "  <tbody>\n",
       "    <tr>\n",
       "      <th>0</th>\n",
       "      <td>tech</td>\n",
       "      <td>tv future in the hands of viewers with home th...</td>\n",
       "    </tr>\n",
       "    <tr>\n",
       "      <th>1</th>\n",
       "      <td>business</td>\n",
       "      <td>worldcom boss  left books alone  former worldc...</td>\n",
       "    </tr>\n",
       "    <tr>\n",
       "      <th>2</th>\n",
       "      <td>sport</td>\n",
       "      <td>tigers wary of farrell  gamble  leicester say ...</td>\n",
       "    </tr>\n",
       "    <tr>\n",
       "      <th>3</th>\n",
       "      <td>sport</td>\n",
       "      <td>yeading face newcastle in fa cup premiership s...</td>\n",
       "    </tr>\n",
       "    <tr>\n",
       "      <th>4</th>\n",
       "      <td>entertainment</td>\n",
       "      <td>ocean s twelve raids box office ocean s twelve...</td>\n",
       "    </tr>\n",
       "    <tr>\n",
       "      <th>...</th>\n",
       "      <td>...</td>\n",
       "      <td>...</td>\n",
       "    </tr>\n",
       "    <tr>\n",
       "      <th>2220</th>\n",
       "      <td>business</td>\n",
       "      <td>cars pull down us retail figures us retail sal...</td>\n",
       "    </tr>\n",
       "    <tr>\n",
       "      <th>2221</th>\n",
       "      <td>politics</td>\n",
       "      <td>kilroy unveils immigration policy ex-chatshow ...</td>\n",
       "    </tr>\n",
       "    <tr>\n",
       "      <th>2222</th>\n",
       "      <td>entertainment</td>\n",
       "      <td>rem announce new glasgow concert us band rem h...</td>\n",
       "    </tr>\n",
       "    <tr>\n",
       "      <th>2223</th>\n",
       "      <td>politics</td>\n",
       "      <td>how political squabbles snowball it s become c...</td>\n",
       "    </tr>\n",
       "    <tr>\n",
       "      <th>2224</th>\n",
       "      <td>sport</td>\n",
       "      <td>souness delight at euro progress boss graeme s...</td>\n",
       "    </tr>\n",
       "  </tbody>\n",
       "</table>\n",
       "<p>2225 rows × 2 columns</p>\n",
       "</div>"
      ],
      "text/plain": [
       "           category                                               text\n",
       "0              tech  tv future in the hands of viewers with home th...\n",
       "1          business  worldcom boss  left books alone  former worldc...\n",
       "2             sport  tigers wary of farrell  gamble  leicester say ...\n",
       "3             sport  yeading face newcastle in fa cup premiership s...\n",
       "4     entertainment  ocean s twelve raids box office ocean s twelve...\n",
       "...             ...                                                ...\n",
       "2220       business  cars pull down us retail figures us retail sal...\n",
       "2221       politics  kilroy unveils immigration policy ex-chatshow ...\n",
       "2222  entertainment  rem announce new glasgow concert us band rem h...\n",
       "2223       politics  how political squabbles snowball it s become c...\n",
       "2224          sport  souness delight at euro progress boss graeme s...\n",
       "\n",
       "[2225 rows x 2 columns]"
      ]
     },
     "execution_count": 2,
     "metadata": {},
     "output_type": "execute_result"
    }
   ],
   "source": [
    "#reading csv file\n",
    "df = pd.read_csv('bbc-text.csv')\n",
    "df"
   ]
  },
  {
   "cell_type": "code",
   "execution_count": 3,
   "id": "a6a56f7b",
   "metadata": {},
   "outputs": [
    {
     "data": {
      "text/plain": [
       "{'business', 'entertainment', 'politics', 'sport', 'tech'}"
      ]
     },
     "execution_count": 3,
     "metadata": {},
     "output_type": "execute_result"
    }
   ],
   "source": [
    "no_of_classes = set(df['category'])\n",
    "no_of_classes"
   ]
  },
  {
   "cell_type": "code",
   "execution_count": 4,
   "id": "4b0b4c0f",
   "metadata": {},
   "outputs": [
    {
     "data": {
      "image/png": "[encoded data removed]",
      "text/plain": [
       "<Figure size 640x480 with 1 Axes>"
      ]
     },
     "metadata": {},
     "output_type": "display_data"
    }
   ],
   "source": [
    "df.groupby('category').text.count().plot.bar(ylim = 0)\n",
    "\n",
    "plt.show()"
   ]
  },
  {
   "cell_type": "code",
   "execution_count": 5,
   "id": "ecddb256",
   "metadata": {},
   "outputs": [
    {
     "name": "stderr",
     "output_type": "stream",
     "text": [
      "[nltk_data] Downloading package stopwords to\n",
      "[nltk_data]     C:\\Users\\nisch\\AppData\\Roaming\\nltk_data...\n",
      "[nltk_data]   Package stopwords is already up-to-date!\n"
     ]
    },
    {
     "data": {
      "text/plain": [
       "['i',\n",
       " 'me',\n",
       " 'my',\n",
       " 'myself',\n",
       " 'we',\n",
       " 'our',\n",
       " 'ours',\n",
       " 'ourselves',\n",
       " 'you',\n",
       " \"you're\",\n",
       " \"you've\",\n",
       " \"you'll\",\n",
       " \"you'd\",\n",
       " 'your',\n",
       " 'yours',\n",
       " 'yourself',\n",
       " 'yourselves',\n",
       " 'he',\n",
       " 'him',\n",
       " 'his',\n",
       " 'himself',\n",
       " 'she',\n",
       " \"she's\",\n",
       " 'her',\n",
       " 'hers',\n",
       " 'herself',\n",
       " 'it',\n",
       " \"it's\",\n",
       " 'its',\n",
       " 'itself',\n",
       " 'they',\n",
       " 'them',\n",
       " 'their',\n",
       " 'theirs',\n",
       " 'themselves',\n",
       " 'what',\n",
       " 'which',\n",
       " 'who',\n",
       " 'whom',\n",
       " 'this',\n",
       " 'that',\n",
       " \"that'll\",\n",
       " 'these',\n",
       " 'those',\n",
       " 'am',\n",
       " 'is',\n",
       " 'are',\n",
       " 'was',\n",
       " 'were',\n",
       " 'be',\n",
       " 'been',\n",
       " 'being',\n",
       " 'have',\n",
       " 'has',\n",
       " 'had',\n",
       " 'having',\n",
       " 'do',\n",
       " 'does',\n",
       " 'did',\n",
       " 'doing',\n",
       " 'a',\n",
       " 'an',\n",
       " 'the',\n",
       " 'and',\n",
       " 'but',\n",
       " 'if',\n",
       " 'or',\n",
       " 'because',\n",
       " 'as',\n",
       " 'until',\n",
       " 'while',\n",
       " 'of',\n",
       " 'at',\n",
       " 'by',\n",
       " 'for',\n",
       " 'with',\n",
       " 'about',\n",
       " 'against',\n",
       " 'between',\n",
       " 'into',\n",
       " 'through',\n",
       " 'during',\n",
       " 'before',\n",
       " 'after',\n",
       " 'above',\n",
       " 'below',\n",
       " 'to',\n",
       " 'from',\n",
       " 'up',\n",
       " 'down',\n",
       " 'in',\n",
       " 'out',\n",
       " 'on',\n",
       " 'off',\n",
       " 'over',\n",
       " 'under',\n",
       " 'again',\n",
       " 'further',\n",
       " 'then',\n",
       " 'once',\n",
       " 'here',\n",
       " 'there',\n",
       " 'when',\n",
       " 'where',\n",
       " 'why',\n",
       " 'how',\n",
       " 'all',\n",
       " 'any',\n",
       " 'both',\n",
       " 'each',\n",
       " 'few',\n",
       " 'more',\n",
       " 'most',\n",
       " 'other',\n",
       " 'some',\n",
       " 'such',\n",
       " 'no',\n",
       " 'nor',\n",
       " 'not',\n",
       " 'only',\n",
       " 'own',\n",
       " 'same',\n",
       " 'so',\n",
       " 'than',\n",
       " 'too',\n",
       " 'very',\n",
       " 's',\n",
       " 't',\n",
       " 'can',\n",
       " 'will',\n",
       " 'just',\n",
       " 'don',\n",
       " \"don't\",\n",
       " 'should',\n",
       " \"should've\",\n",
       " 'now',\n",
       " 'd',\n",
       " 'll',\n",
       " 'm',\n",
       " 'o',\n",
       " 're',\n",
       " 've',\n",
       " 'y',\n",
       " 'ain',\n",
       " 'aren',\n",
       " \"aren't\",\n",
       " 'couldn',\n",
       " \"couldn't\",\n",
       " 'didn',\n",
       " \"didn't\",\n",
       " 'doesn',\n",
       " \"doesn't\",\n",
       " 'hadn',\n",
       " \"hadn't\",\n",
       " 'hasn',\n",
       " \"hasn't\",\n",
       " 'haven',\n",
       " \"haven't\",\n",
       " 'isn',\n",
       " \"isn't\",\n",
       " 'ma',\n",
       " 'mightn',\n",
       " \"mightn't\",\n",
       " 'mustn',\n",
       " \"mustn't\",\n",
       " 'needn',\n",
       " \"needn't\",\n",
       " 'shan',\n",
       " \"shan't\",\n",
       " 'shouldn',\n",
       " \"shouldn't\",\n",
       " 'wasn',\n",
       " \"wasn't\",\n",
       " 'weren',\n",
       " \"weren't\",\n",
       " 'won',\n",
       " \"won't\",\n",
       " 'wouldn',\n",
       " \"wouldn't\"]"
      ]
     },
     "execution_count": 5,
     "metadata": {},
     "output_type": "execute_result"
    }
   ],
   "source": [
    "nltk.download('stopwords')\n",
    "words = stopwords.words('english')\n",
    "words"
   ]
  },
  {
   "cell_type": "code",
   "execution_count": 6,
   "id": "fda55397",
   "metadata": {},
   "outputs": [],
   "source": [
    "stemmer = PorterStemmer()"
   ]
  },
  {
   "cell_type": "code",
   "execution_count": 7,
   "id": "6dc1497f",
   "metadata": {},
   "outputs": [
    {
     "data": {
      "text/plain": [
       "'tv futur in the hand of viewer with home theatr system plasma high-definit tv and digit video record move into the live room the way peopl watch tv will be radic differ in five year time. that is accord to an expert panel which gather at the annual consum electron show in la vega to discuss how these new technolog will impact one of our favourit pastimes. with the us lead the trend programm and other content will be deliv to viewer via home network through cabl satellit telecom compani and broadband servic provid to front room and portabl devices. one of the most talked-about technolog of ce ha been digit and person video record (dvr and pvr). these set-top box like the us s tivo and the uk s sky+ system allow peopl to record store play paus and forward wind tv programm when they want. essenti the technolog allow for much more personalis tv. they are also be built-in to high-definit tv set which are big busi in japan and the us but slower to take off in europ becaus of the lack of high-definit programming. not onli can peopl forward wind through advert they can also forget about abid by network and channel schedul put togeth their own a-la-cart entertainment. but some us network and cabl and satellit compani are worri about what it mean for them in term of advertis revenu as well as brand ident and viewer loyalti to channels. although the us lead in thi technolog at the moment it is also a concern that is be rais in europ particularli with the grow uptak of servic like sky+. what happen here today we will see in nine month to a year time in the uk adam hume the bbc broadcast s futurologist told the bbc news website. for the like of the bbc there are no issu of lost advertis revenu yet. it is a more press issu at the moment for commerci uk broadcast but brand loyalti is import for everyone. we will be talk more about content brand rather than network brand said tim hanlon from brand commun firm starcom mediavest. the realiti is that with broadband connect anybodi can be the produc of content. he added: the challeng now is that it is hard to promot a programm with so much choice. what thi mean said stacey jolna senior vice presid of tv guid tv group is that the way peopl find the content they want to watch ha to be simplifi for tv viewers. it mean that network in us term or channel could take a leaf out of googl s book and be the search engin of the futur instead of the schedul to help peopl find what they want to watch. thi kind of channel model might work for the younger ipod gener which is use to take control of their gadget and what they play on them. but it might not suit everyon the panel recognised. older gener are more comfort with familiar schedul and channel brand becaus they know what they are getting. they perhap do not want so much of the choic put into their hand mr hanlon suggested. on the other end you have the kid just out of diaper who are push button alreadi - everyth is possibl and avail to them said mr hanlon. ultim the consum will tell the market they want. of the 50 000 new gadget and technolog be showcas at ce mani of them are about enhanc the tv-watch experience. high-definit tv set are everywher and mani new model of lcd (liquid crystal display) tv have been launch with dvr capabl built into them instead of be extern boxes. one such exampl launch at the show is humax s 26-inch lcd tv with an 80-hour tivo dvr and dvd recorder. one of the us s biggest satellit tv compani directtv ha even launch it own brand dvr at the show with 100-hour of record capabl instant replay and a search function. the set can paus and rewind tv for up to 90 hours. and microsoft chief bill gate announc in hi pre-show keynot speech a partnership with tivo call tivotogo which mean peopl can play record programm on window pc and mobil devices. all these reflect the increas trend of free up multimedia so that peopl can watch what they want when they want.'"
      ]
     },
     "execution_count": 7,
     "metadata": {},
     "output_type": "execute_result"
    }
   ],
   "source": [
    "plurals = df['text'][0].split()\n",
    "plurals\n",
    "singles = \" \".join([stemmer.stem(plural) for plural in plurals])\n",
    "singles"
   ]
  },
  {
   "cell_type": "code",
   "execution_count": 8,
   "id": "6046d734",
   "metadata": {},
   "outputs": [
    {
     "data": {
      "text/plain": [
       "'nischal'"
      ]
     },
     "execution_count": 8,
     "metadata": {},
     "output_type": "execute_result"
    }
   ],
   "source": [
    "re.sub(\"[^a-zA-Z]\", \"\", 'nischal12&&')\n"
   ]
  },
  {
   "cell_type": "code",
   "execution_count": 9,
   "id": "92420d79",
   "metadata": {},
   "outputs": [
    {
     "data": {
      "text/plain": [
       "'tv futur in the hand of viewer with home theatr system plasma high definit tv and digit video record move into the live room the way peopl watch tv will be radic differ in five year time  that is accord to an expert panel which gather at the annual consum electron show in la vega to discuss how these new technolog will impact one of our favourit pastimes  with the us lead the trend programm and other content will be deliv to viewer via home network through cabl satellit telecom compani and broadband servic provid to front room and portabl devices  one of the most talked about technolog of ce ha been digit and person video record  dvr and pvr   these set top box like the us s tivo and the uk s sky  system allow peopl to record store play paus and forward wind tv programm when they want  essenti the technolog allow for much more personalis tv  they are also be built in to high definit tv set which are big busi in japan and the us but slower to take off in europ becaus of the lack of high definit programming  not onli can peopl forward wind through advert they can also forget about abid by network and channel schedul put togeth their own a la cart entertainment  but some us network and cabl and satellit compani are worri about what it mean for them in term of advertis revenu as well as brand ident and viewer loyalti to channels  although the us lead in thi technolog at the moment it is also a concern that is be rais in europ particularli with the grow uptak of servic like sky   what happen here today we will see in nine month to a year time in the uk adam hume the bbc broadcast s futurologist told the bbc news website  for the like of the bbc there are no issu of lost advertis revenu yet  it is a more press issu at the moment for commerci uk broadcast but brand loyalti is import for everyone  we will be talk more about content brand rather than network brand said tim hanlon from brand commun firm starcom mediavest  the realiti is that with broadband connect anybodi can be the produc of content  he added  the challeng now is that it is hard to promot a programm with so much choice  what thi mean said stacey jolna senior vice presid of tv guid tv group is that the way peopl find the content they want to watch ha to be simplifi for tv viewers  it mean that network in us term or channel could take a leaf out of googl s book and be the search engin of the futur instead of the schedul to help peopl find what they want to watch  thi kind of channel model might work for the younger ipod gener which is use to take control of their gadget and what they play on them  but it might not suit everyon the panel recognised  older gener are more comfort with familiar schedul and channel brand becaus they know what they are getting  they perhap do not want so much of the choic put into their hand mr hanlon suggested  on the other end you have the kid just out of diaper who are push button alreadi   everyth is possibl and avail to them said mr hanlon  ultim the consum will tell the market they want  of the        new gadget and technolog be showcas at ce mani of them are about enhanc the tv watch experience  high definit tv set are everywher and mani new model of lcd  liquid crystal display  tv have been launch with dvr capabl built into them instead of be extern boxes  one such exampl launch at the show is humax s    inch lcd tv with an    hour tivo dvr and dvd recorder  one of the us s biggest satellit tv compani directtv ha even launch it own brand dvr at the show with     hour of record capabl instant replay and a search function  the set can paus and rewind tv for up to    hours  and microsoft chief bill gate announc in hi pre show keynot speech a partnership with tivo call tivotogo which mean peopl can play record programm on window pc and mobil devices  all these reflect the increas trend of free up multimedia so that peopl can watch what they want when they want '"
      ]
     },
     "execution_count": 9,
     "metadata": {},
     "output_type": "execute_result"
    }
   ],
   "source": [
    "cleaned_data = lambda x: \"\".join([i for i in re.sub(\"[^a-zA-Z]\", \" \", x)])\n",
    "cleaned_data(singles)"
   ]
  },
  {
   "cell_type": "code",
   "execution_count": 10,
   "id": "e4c168ad",
   "metadata": {},
   "outputs": [
    {
     "data": {
      "text/html": [
       "<div>\n",
       "<style scoped>\n",
       "    .dataframe tbody tr th:only-of-type {\n",
       "        vertical-align: middle;\n",
       "    }\n",
       "\n",
       "    .dataframe tbody tr th {\n",
       "        vertical-align: top;\n",
       "    }\n",
       "\n",
       "    .dataframe thead th {\n",
       "        text-align: right;\n",
       "    }\n",
       "</style>\n",
       "<table border=\"1\" class=\"dataframe\">\n",
       "  <thead>\n",
       "    <tr style=\"text-align: right;\">\n",
       "      <th></th>\n",
       "      <th>category</th>\n",
       "      <th>text</th>\n",
       "      <th>cleaned</th>\n",
       "    </tr>\n",
       "  </thead>\n",
       "  <tbody>\n",
       "    <tr>\n",
       "      <th>0</th>\n",
       "      <td>tech</td>\n",
       "      <td>tv future in the hands of viewers with home th...</td>\n",
       "      <td>tv futur hand viewer home theatr system plasma...</td>\n",
       "    </tr>\n",
       "    <tr>\n",
       "      <th>1</th>\n",
       "      <td>business</td>\n",
       "      <td>worldcom boss  left books alone  former worldc...</td>\n",
       "      <td>worldcom boss left book alon former worldcom b...</td>\n",
       "    </tr>\n",
       "    <tr>\n",
       "      <th>2</th>\n",
       "      <td>sport</td>\n",
       "      <td>tigers wary of farrell  gamble  leicester say ...</td>\n",
       "      <td>tiger wari farrel gambl leicest say rush make ...</td>\n",
       "    </tr>\n",
       "    <tr>\n",
       "      <th>3</th>\n",
       "      <td>sport</td>\n",
       "      <td>yeading face newcastle in fa cup premiership s...</td>\n",
       "      <td>yead face newcastl fa cup premiership side new...</td>\n",
       "    </tr>\n",
       "    <tr>\n",
       "      <th>4</th>\n",
       "      <td>entertainment</td>\n",
       "      <td>ocean s twelve raids box office ocean s twelve...</td>\n",
       "      <td>ocean twelv raid box offic ocean twelv crime c...</td>\n",
       "    </tr>\n",
       "    <tr>\n",
       "      <th>...</th>\n",
       "      <td>...</td>\n",
       "      <td>...</td>\n",
       "      <td>...</td>\n",
       "    </tr>\n",
       "    <tr>\n",
       "      <th>2220</th>\n",
       "      <td>business</td>\n",
       "      <td>cars pull down us retail figures us retail sal...</td>\n",
       "      <td>car pull us retail figur us retail sale fell j...</td>\n",
       "    </tr>\n",
       "    <tr>\n",
       "      <th>2221</th>\n",
       "      <td>politics</td>\n",
       "      <td>kilroy unveils immigration policy ex-chatshow ...</td>\n",
       "      <td>kilroy unveil immigr polici ex chatshow host r...</td>\n",
       "    </tr>\n",
       "    <tr>\n",
       "      <th>2222</th>\n",
       "      <td>entertainment</td>\n",
       "      <td>rem announce new glasgow concert us band rem h...</td>\n",
       "      <td>rem announc new glasgow concert us band rem an...</td>\n",
       "    </tr>\n",
       "    <tr>\n",
       "      <th>2223</th>\n",
       "      <td>politics</td>\n",
       "      <td>how political squabbles snowball it s become c...</td>\n",
       "      <td>polit squabbl snowbal becom commonplac argu bl...</td>\n",
       "    </tr>\n",
       "    <tr>\n",
       "      <th>2224</th>\n",
       "      <td>sport</td>\n",
       "      <td>souness delight at euro progress boss graeme s...</td>\n",
       "      <td>souness delight euro progress boss graem soune...</td>\n",
       "    </tr>\n",
       "  </tbody>\n",
       "</table>\n",
       "<p>2225 rows × 3 columns</p>\n",
       "</div>"
      ],
      "text/plain": [
       "           category                                               text  \\\n",
       "0              tech  tv future in the hands of viewers with home th...   \n",
       "1          business  worldcom boss  left books alone  former worldc...   \n",
       "2             sport  tigers wary of farrell  gamble  leicester say ...   \n",
       "3             sport  yeading face newcastle in fa cup premiership s...   \n",
       "4     entertainment  ocean s twelve raids box office ocean s twelve...   \n",
       "...             ...                                                ...   \n",
       "2220       business  cars pull down us retail figures us retail sal...   \n",
       "2221       politics  kilroy unveils immigration policy ex-chatshow ...   \n",
       "2222  entertainment  rem announce new glasgow concert us band rem h...   \n",
       "2223       politics  how political squabbles snowball it s become c...   \n",
       "2224          sport  souness delight at euro progress boss graeme s...   \n",
       "\n",
       "                                                cleaned  \n",
       "0     tv futur hand viewer home theatr system plasma...  \n",
       "1     worldcom boss left book alon former worldcom b...  \n",
       "2     tiger wari farrel gambl leicest say rush make ...  \n",
       "3     yead face newcastl fa cup premiership side new...  \n",
       "4     ocean twelv raid box offic ocean twelv crime c...  \n",
       "...                                                 ...  \n",
       "2220  car pull us retail figur us retail sale fell j...  \n",
       "2221  kilroy unveil immigr polici ex chatshow host r...  \n",
       "2222  rem announc new glasgow concert us band rem an...  \n",
       "2223  polit squabbl snowbal becom commonplac argu bl...  \n",
       "2224  souness delight euro progress boss graem soune...  \n",
       "\n",
       "[2225 rows x 3 columns]"
      ]
     },
     "execution_count": 10,
     "metadata": {},
     "output_type": "execute_result"
    }
   ],
   "source": [
    "#cleaning dataset\n",
    "words = stopwords.words(\"english\")\n",
    "df['cleaned'] = df['text'].apply(lambda x: \" \".join([stemmer.stem(i) for i in re.sub(\"[^a-zA-Z]\", \" \", x).split() if i not in words]).lower())\n",
    "df"
   ]
  },
  {
   "cell_type": "code",
   "execution_count": 11,
   "id": "30c1c741",
   "metadata": {},
   "outputs": [],
   "source": [
    "df1 = df[['category', 'cleaned']]"
   ]
  },
  {
   "cell_type": "code",
   "execution_count": 12,
   "id": "d4f0aa9a",
   "metadata": {},
   "outputs": [
    {
     "data": {
      "text/html": [
       "<div>\n",
       "<style scoped>\n",
       "    .dataframe tbody tr th:only-of-type {\n",
       "        vertical-align: middle;\n",
       "    }\n",
       "\n",
       "    .dataframe tbody tr th {\n",
       "        vertical-align: top;\n",
       "    }\n",
       "\n",
       "    .dataframe thead th {\n",
       "        text-align: right;\n",
       "    }\n",
       "</style>\n",
       "<table border=\"1\" class=\"dataframe\">\n",
       "  <thead>\n",
       "    <tr style=\"text-align: right;\">\n",
       "      <th></th>\n",
       "      <th>category</th>\n",
       "      <th>cleaned</th>\n",
       "    </tr>\n",
       "  </thead>\n",
       "  <tbody>\n",
       "    <tr>\n",
       "      <th>0</th>\n",
       "      <td>tech</td>\n",
       "      <td>tv futur hand viewer home theatr system plasma...</td>\n",
       "    </tr>\n",
       "    <tr>\n",
       "      <th>1</th>\n",
       "      <td>business</td>\n",
       "      <td>worldcom boss left book alon former worldcom b...</td>\n",
       "    </tr>\n",
       "    <tr>\n",
       "      <th>2</th>\n",
       "      <td>sport</td>\n",
       "      <td>tiger wari farrel gambl leicest say rush make ...</td>\n",
       "    </tr>\n",
       "    <tr>\n",
       "      <th>3</th>\n",
       "      <td>sport</td>\n",
       "      <td>yead face newcastl fa cup premiership side new...</td>\n",
       "    </tr>\n",
       "    <tr>\n",
       "      <th>4</th>\n",
       "      <td>entertainment</td>\n",
       "      <td>ocean twelv raid box offic ocean twelv crime c...</td>\n",
       "    </tr>\n",
       "    <tr>\n",
       "      <th>...</th>\n",
       "      <td>...</td>\n",
       "      <td>...</td>\n",
       "    </tr>\n",
       "    <tr>\n",
       "      <th>2220</th>\n",
       "      <td>business</td>\n",
       "      <td>car pull us retail figur us retail sale fell j...</td>\n",
       "    </tr>\n",
       "    <tr>\n",
       "      <th>2221</th>\n",
       "      <td>politics</td>\n",
       "      <td>kilroy unveil immigr polici ex chatshow host r...</td>\n",
       "    </tr>\n",
       "    <tr>\n",
       "      <th>2222</th>\n",
       "      <td>entertainment</td>\n",
       "      <td>rem announc new glasgow concert us band rem an...</td>\n",
       "    </tr>\n",
       "    <tr>\n",
       "      <th>2223</th>\n",
       "      <td>politics</td>\n",
       "      <td>polit squabbl snowbal becom commonplac argu bl...</td>\n",
       "    </tr>\n",
       "    <tr>\n",
       "      <th>2224</th>\n",
       "      <td>sport</td>\n",
       "      <td>souness delight euro progress boss graem soune...</td>\n",
       "    </tr>\n",
       "  </tbody>\n",
       "</table>\n",
       "<p>2225 rows × 2 columns</p>\n",
       "</div>"
      ],
      "text/plain": [
       "           category                                            cleaned\n",
       "0              tech  tv futur hand viewer home theatr system plasma...\n",
       "1          business  worldcom boss left book alon former worldcom b...\n",
       "2             sport  tiger wari farrel gambl leicest say rush make ...\n",
       "3             sport  yead face newcastl fa cup premiership side new...\n",
       "4     entertainment  ocean twelv raid box offic ocean twelv crime c...\n",
       "...             ...                                                ...\n",
       "2220       business  car pull us retail figur us retail sale fell j...\n",
       "2221       politics  kilroy unveil immigr polici ex chatshow host r...\n",
       "2222  entertainment  rem announc new glasgow concert us band rem an...\n",
       "2223       politics  polit squabbl snowbal becom commonplac argu bl...\n",
       "2224          sport  souness delight euro progress boss graem soune...\n",
       "\n",
       "[2225 rows x 2 columns]"
      ]
     },
     "execution_count": 12,
     "metadata": {},
     "output_type": "execute_result"
    }
   ],
   "source": [
    "df1"
   ]
  },
  {
   "cell_type": "code",
   "execution_count": 13,
   "id": "86367842",
   "metadata": {},
   "outputs": [],
   "source": [
    "# Training model\n",
    "from sklearn.linear_model import LogisticRegression\n",
    "log_regression = LogisticRegression()\n",
    "\n",
    "vectorizer = TfidfVectorizer()\n",
    "\n",
    "X = df['cleaned']\n",
    "Y = df['category']\n",
    "\n",
    "X_train, X_test, y_train, y_test = train_test_split(X, Y, test_size=0.05) #Splitting dataset\n",
    "# #Creating Pipeline\n",
    "pipeline = Pipeline([('vect', vectorizer),\n",
    "                     ('chi',  SelectKBest(chi2, k=1200)),\n",
    "                     ('clf', LogisticRegression(random_state=0))])\n",
    "#Training model\n",
    "model = pipeline.fit(X_train, y_train)"
   ]
  },
  {
   "cell_type": "code",
   "execution_count": 14,
   "id": "b39bc924",
   "metadata": {},
   "outputs": [
    {
     "data": {
      "text/plain": [
       "2021    entertainment\n",
       "Name: category, dtype: object"
      ]
     },
     "execution_count": 14,
     "metadata": {},
     "output_type": "execute_result"
    }
   ],
   "source": [
    "y_test.iloc[0:1]"
   ]
  },
  {
   "cell_type": "code",
   "execution_count": 15,
   "id": "471102ef",
   "metadata": {},
   "outputs": [
    {
     "name": "stdout",
     "output_type": "stream",
     "text": [
      "['entertainment']\n"
     ]
    }
   ],
   "source": [
    "predict = model.predict(X_test.iloc[0:1])\n",
    "print(predict)"
   ]
  },
  {
   "cell_type": "code",
   "execution_count": 16,
   "id": "d11b36de",
   "metadata": {},
   "outputs": [
    {
     "data": {
      "text/plain": [
       "array(['entertainment', 'business', 'sport', 'business', 'sport',\n",
       "       'entertainment', 'business', 'entertainment', 'business',\n",
       "       'business', 'tech', 'politics', 'tech', 'tech', 'politics',\n",
       "       'business', 'tech', 'entertainment', 'politics', 'entertainment',\n",
       "       'sport', 'politics', 'business', 'entertainment', 'entertainment',\n",
       "       'politics', 'tech', 'business', 'politics', 'sport', 'sport',\n",
       "       'politics', 'tech', 'entertainment', 'entertainment', 'business',\n",
       "       'entertainment', 'politics', 'entertainment', 'entertainment',\n",
       "       'tech', 'politics', 'business', 'tech', 'politics',\n",
       "       'entertainment', 'sport', 'sport', 'politics', 'business',\n",
       "       'entertainment', 'entertainment', 'sport', 'entertainment',\n",
       "       'sport', 'sport', 'entertainment', 'sport', 'politics', 'sport',\n",
       "       'entertainment', 'tech', 'sport', 'entertainment', 'tech', 'tech',\n",
       "       'politics', 'entertainment', 'entertainment', 'politics',\n",
       "       'business', 'sport', 'business', 'politics', 'sport', 'sport',\n",
       "       'sport', 'sport', 'business', 'entertainment', 'sport', 'sport',\n",
       "       'entertainment', 'tech', 'entertainment', 'sport', 'sport',\n",
       "       'politics', 'business', 'tech', 'business', 'tech', 'sport',\n",
       "       'tech', 'tech', 'business', 'politics', 'entertainment',\n",
       "       'entertainment', 'politics', 'business', 'sport', 'tech', 'tech',\n",
       "       'entertainment', 'tech', 'politics', 'entertainment',\n",
       "       'entertainment', 'tech', 'sport', 'sport'], dtype=object)"
      ]
     },
     "execution_count": 16,
     "metadata": {},
     "output_type": "execute_result"
    }
   ],
   "source": [
    "predict = model.predict(X_test)\n",
    "predict"
   ]
  },
  {
   "cell_type": "code",
   "execution_count": 20,
   "id": "0d65d407",
   "metadata": {},
   "outputs": [
    {
     "name": "stdout",
     "output_type": "stream",
     "text": [
      "Enter the news = Gillingham v Sheff Utd, Stoke v Brighton & QPR v Bournemouth among 10 FA Cup ties under way\n"
     ]
    },
    {
     "data": {
      "text/plain": [
       "'sport'"
      ]
     },
     "execution_count": 20,
     "metadata": {},
     "output_type": "execute_result"
    }
   ],
   "source": [
    "data = {'news': [input('Enter the news = ')] for i in range(1)}\n",
    "data = pd.DataFrame(data)\n",
    "data\n",
    "predict = model.predict(data['news'])\n",
    "predict[0]"
   ]
  },
  {
   "cell_type": "code",
   "execution_count": null,
   "id": "16c522d4",
   "metadata": {},
   "outputs": [],
   "source": []
  }
 ],
 "metadata": {
  "kernelspec": {
   "display_name": "Python 3 (ipykernel)",
   "language": "python",
   "name": "python3"
  },
  "language_info": {
   "codemirror_mode": {
    "name": "ipython",
    "version": 3
   },
   "file_extension": ".py",
   "mimetype": "text/x-python",
   "name": "python",
   "nbconvert_exporter": "python",
   "pygments_lexer": "ipython3",
   "version": "3.11.5"
  }
 },
 "nbformat": 4,
 "nbformat_minor": 5
}
